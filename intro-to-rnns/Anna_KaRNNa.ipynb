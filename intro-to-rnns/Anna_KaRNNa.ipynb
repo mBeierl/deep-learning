{
 "cells": [
  {
   "cell_type": "markdown",
   "metadata": {
    "deletable": true,
    "editable": true
   },
   "source": [
    "# Anna KaRNNa\n",
    "\n",
    "In this notebook, we'll build a character-wise RNN trained on Anna Karenina, one of my all-time favorite books. It'll be able to generate new text based on the text from the book.\n",
    "\n",
    "This network is based off of Andrej Karpathy's [post on RNNs](http://karpathy.github.io/2015/05/21/rnn-effectiveness/) and [implementation in Torch](https://github.com/karpathy/char-rnn). Also, some information [here at r2rt](http://r2rt.com/recurrent-neural-networks-in-tensorflow-ii.html) and from [Sherjil Ozair](https://github.com/sherjilozair/char-rnn-tensorflow) on GitHub. Below is the general architecture of the character-wise RNN.\n",
    "\n",
    "<img src=\"assets/charseq.jpeg\" width=\"500\">"
   ]
  },
  {
   "cell_type": "code",
   "execution_count": null,
   "metadata": {},
   "outputs": [],
   "source": [
    "import time\n",
    "from collections import namedtuple\n",
    "\n",
    "import numpy as np\n",
    "import tensorflow as tf"
   ]
  },
  {
   "cell_type": "markdown",
   "metadata": {
    "deletable": true,
    "editable": true
   },
   "source": [
    "First we'll load the text file and convert it into integers for our network to use. Here I'm creating a couple dictionaries to convert the characters to and from integers. Encoding the characters as integers makes it easier to use as input in the network."
   ]
  },
  {
   "cell_type": "code",
<<<<<<< HEAD
   "execution_count": 2,
   "metadata": {
    "collapsed": true,
    "deletable": true,
    "editable": true
   },
=======
   "execution_count": null,
   "metadata": {},
>>>>>>> upstream/master
   "outputs": [],
   "source": [
    "with open('anna.txt', 'r') as f:\n",
    "    text=f.read()\n",
    "vocab = sorted(set(text))\n",
    "vocab_to_int = {c: i for i, c in enumerate(vocab)}\n",
    "int_to_vocab = dict(enumerate(vocab))\n",
    "encoded = np.array([vocab_to_int[c] for c in text], dtype=np.int32)"
   ]
  },
  {
   "cell_type": "markdown",
   "metadata": {
    "deletable": true,
    "editable": true
   },
   "source": [
    "Let's check out the first 100 characters, make sure everything is peachy. According to the [American Book Review](http://americanbookreview.org/100bestlines.asp), this is the 6th best first line of a book ever."
   ]
  },
  {
   "cell_type": "code",
<<<<<<< HEAD
   "execution_count": 3,
   "metadata": {
    "collapsed": false,
    "deletable": true,
    "editable": true
   },
   "outputs": [
    {
     "data": {
      "text/plain": [
       "'Chapter 1\\n\\n\\nHappy families are all alike; every unhappy family is unhappy in its own\\nway.\\n\\nEverythin'"
      ]
     },
     "execution_count": 3,
     "metadata": {},
     "output_type": "execute_result"
    }
   ],
=======
   "execution_count": null,
   "metadata": {},
   "outputs": [],
>>>>>>> upstream/master
   "source": [
    "text[:100]"
   ]
  },
  {
   "cell_type": "markdown",
   "metadata": {
    "deletable": true,
    "editable": true
   },
   "source": [
    "And we can see the characters encoded as integers."
   ]
  },
  {
   "cell_type": "code",
<<<<<<< HEAD
   "execution_count": 4,
   "metadata": {
    "collapsed": false,
    "deletable": true,
    "editable": true
   },
   "outputs": [
    {
     "data": {
      "text/plain": [
       "array([31, 64, 57, 72, 76, 61, 74,  1, 16,  0,  0,  0, 36, 57, 72, 72, 81,\n",
       "        1, 62, 57, 69, 65, 68, 65, 61, 75,  1, 57, 74, 61,  1, 57, 68, 68,\n",
       "        1, 57, 68, 65, 67, 61, 26,  1, 61, 78, 61, 74, 81,  1, 77, 70, 64,\n",
       "       57, 72, 72, 81,  1, 62, 57, 69, 65, 68, 81,  1, 65, 75,  1, 77, 70,\n",
       "       64, 57, 72, 72, 81,  1, 65, 70,  1, 65, 76, 75,  1, 71, 79, 70,  0,\n",
       "       79, 57, 81, 13,  0,  0, 33, 78, 61, 74, 81, 76, 64, 65, 70])"
      ]
     },
     "execution_count": 4,
     "metadata": {},
     "output_type": "execute_result"
    }
   ],
=======
   "execution_count": null,
   "metadata": {},
   "outputs": [],
>>>>>>> upstream/master
   "source": [
    "encoded[:100]"
   ]
  },
  {
   "cell_type": "markdown",
   "metadata": {
    "deletable": true,
    "editable": true
   },
   "source": [
    "Since the network is working with individual characters, it's similar to a classification problem in which we are trying to predict the next character from the previous text.  Here's how many 'classes' our network has to pick from."
   ]
  },
  {
   "cell_type": "code",
<<<<<<< HEAD
   "execution_count": 5,
   "metadata": {
    "collapsed": false,
    "deletable": true,
    "editable": true
   },
   "outputs": [
    {
     "data": {
      "text/plain": [
       "83"
      ]
     },
     "execution_count": 5,
     "metadata": {},
     "output_type": "execute_result"
    }
   ],
=======
   "execution_count": null,
   "metadata": {},
   "outputs": [],
>>>>>>> upstream/master
   "source": [
    "len(vocab)"
   ]
  },
  {
   "cell_type": "markdown",
   "metadata": {
    "deletable": true,
    "editable": true
   },
   "source": [
    "## Making training mini-batches\n",
    "\n",
    "Here is where we'll make our mini-batches for training. Remember that we want our batches to be multiple sequences of some desired number of sequence steps. Considering a simple example, our batches would look like this:\n",
    "\n",
    "<img src=\"assets/sequence_batching@1x.png\" width=500px>\n",
    "\n",
    "\n",
    "<br>\n",
    "\n",
    "We start with our text encoded as integers in one long array in `encoded`. Let's create a function that will give us an iterator for our batches. I like using [generator functions](https://jeffknupp.com/blog/2013/04/07/improve-your-python-yield-and-generators-explained/) to do this. Then we can pass `encoded` into this function and get our batch generator.\n",
    "\n",
    "The first thing we need to do is discard some of the text so we only have completely full batches. Each batch contains $N \\times M$ characters, where $N$ is the batch size (the number of sequences) and $M$ is the number of steps. Then, to get the total number of batches, $K$, we can make from the array `arr`, you divide the length of `arr` by the number of characters per batch. Once you know the number of batches, you can get the total number of characters to keep from `arr`, $N * M * K$.\n",
    "\n",
    "After that, we need to split `arr` into $N$ sequences. You can do this using `arr.reshape(size)` where `size` is a tuple containing the dimensions sizes of the reshaped array. We know we want $N$ sequences (`batch_size` below), let's make that the size of the first dimension. For the second dimension, you can use `-1` as a placeholder in the size, it'll fill up the array with the appropriate data for you. After this, you should have an array that is $N \\times (M * K)$.\n",
    "\n",
    "Now that we have this array, we can iterate through it to get our batches. The idea is each batch is a $N \\times M$ window on the $N \\times (M * K)$ array. For each subsequent batch, the window moves over by `n_steps`. We also want to create both the input and target arrays. Remember that the targets are the inputs shifted over one character. \n",
    "\n",
    "The way I like to do this window is use `range` to take steps of size `n_steps` from $0$ to `arr.shape[1]`, the total number of steps in each sequence. That way, the integers you get from `range` always point to the start of a batch, and each window is `n_steps` wide.\n",
    "\n",
    "> **Exercise:** Write the code for creating batches in the function below. The exercises in this notebook _will not be easy_. I've provided a notebook with solutions alongside this notebook. If you get stuck, checkout the solutions. The most important thing is that you don't copy and paste the code into here, **type out the solution code yourself.**"
   ]
  },
  {
   "cell_type": "code",
<<<<<<< HEAD
   "execution_count": 6,
   "metadata": {
    "collapsed": true,
    "deletable": true,
    "editable": true
   },
=======
   "execution_count": null,
   "metadata": {},
>>>>>>> upstream/master
   "outputs": [],
   "source": [
    "def get_batches(arr, batch_size, n_steps):\n",
    "    '''Create a generator that returns batches of size\n",
    "       batch_size x n_steps from arr.\n",
    "       \n",
    "       Arguments\n",
    "       ---------\n",
    "       arr: Array you want to make batches from\n",
    "       batch_size: Batch size, the number of sequences per batch\n",
    "       n_steps: Number of sequence steps per batch\n",
    "    '''\n",
    "    # Get the number of characters per batch and number of batches we can make\n",
    "    characters_per_batch = \n",
    "    n_batches = \n",
    "    \n",
    "    # Keep only enough characters to make full batches\n",
    "    arr = \n",
    "    \n",
    "    # Reshape into batch_size rows\n",
    "    arr = \n",
    "    \n",
    "    for n in range(0, arr.shape[1], n_steps):\n",
    "        # The features\n",
    "        x = \n",
    "        # The targets, shifted by one\n",
    "        y = \n",
    "        yield x, y"
   ]
  },
  {
   "cell_type": "markdown",
   "metadata": {
    "deletable": true,
    "editable": true
   },
   "source": [
    "Now I'll make my data sets and we can check out what's going on here. Here I'm going to use a batch size of 10 and 50 sequence steps."
   ]
  },
  {
   "cell_type": "code",
<<<<<<< HEAD
   "execution_count": 7,
   "metadata": {
    "collapsed": true,
    "deletable": true,
    "editable": true
   },
=======
   "execution_count": null,
   "metadata": {},
>>>>>>> upstream/master
   "outputs": [],
   "source": [
    "batches = get_batches(encoded, 10, 50)\n",
    "x, y = next(batches)"
   ]
  },
  {
   "cell_type": "code",
<<<<<<< HEAD
   "execution_count": 8,
   "metadata": {
    "collapsed": false,
    "deletable": true,
    "editable": true
   },
   "outputs": [
    {
     "name": "stdout",
     "output_type": "stream",
     "text": [
      "x\n",
      " [[31 64 57 72 76 61 74  1 16  0]\n",
      " [ 1 57 69  1 70 71 76  1 63 71]\n",
      " [78 65 70 13  0  0  3 53 61 75]\n",
      " [70  1 60 77 74 65 70 63  1 64]\n",
      " [ 1 65 76  1 65 75 11  1 75 65]\n",
      " [ 1 37 76  1 79 57 75  0 71 70]\n",
      " [64 61 70  1 59 71 69 61  1 62]\n",
      " [26  1 58 77 76  1 70 71 79  1]\n",
      " [76  1 65 75 70  7 76 13  1 48]\n",
      " [ 1 75 57 65 60  1 76 71  1 64]]\n",
      "\n",
      "y\n",
      " [[64 57 72 76 61 74  1 16  0  0]\n",
      " [57 69  1 70 71 76  1 63 71 65]\n",
      " [65 70 13  0  0  3 53 61 75 11]\n",
      " [ 1 60 77 74 65 70 63  1 64 65]\n",
      " [65 76  1 65 75 11  1 75 65 74]\n",
      " [37 76  1 79 57 75  0 71 70 68]\n",
      " [61 70  1 59 71 69 61  1 62 71]\n",
      " [ 1 58 77 76  1 70 71 79  1 75]\n",
      " [ 1 65 75 70  7 76 13  1 48 64]\n",
      " [75 57 65 60  1 76 71  1 64 61]]\n"
     ]
    }
   ],
=======
   "execution_count": null,
   "metadata": {},
   "outputs": [],
>>>>>>> upstream/master
   "source": [
    "print('x\\n', x[:10, :10])\n",
    "print('\\ny\\n', y[:10, :10])"
   ]
  },
  {
   "cell_type": "markdown",
   "metadata": {
    "deletable": true,
    "editable": true
   },
   "source": [
    "If you implemented `get_batches` correctly, the above output should look something like \n",
    "```\n",
    "x\n",
    " [[55 63 69 22  6 76 45  5 16 35]\n",
    " [ 5 69  1  5 12 52  6  5 56 52]\n",
    " [48 29 12 61 35 35  8 64 76 78]\n",
    " [12  5 24 39 45 29 12 56  5 63]\n",
    " [ 5 29  6  5 29 78 28  5 78 29]\n",
    " [ 5 13  6  5 36 69 78 35 52 12]\n",
    " [63 76 12  5 18 52  1 76  5 58]\n",
    " [34  5 73 39  6  5 12 52 36  5]\n",
    " [ 6  5 29 78 12 79  6 61  5 59]\n",
    " [ 5 78 69 29 24  5  6 52  5 63]]\n",
    "\n",
    "y\n",
    " [[63 69 22  6 76 45  5 16 35 35]\n",
    " [69  1  5 12 52  6  5 56 52 29]\n",
    " [29 12 61 35 35  8 64 76 78 28]\n",
    " [ 5 24 39 45 29 12 56  5 63 29]\n",
    " [29  6  5 29 78 28  5 78 29 45]\n",
    " [13  6  5 36 69 78 35 52 12 43]\n",
    " [76 12  5 18 52  1 76  5 58 52]\n",
    " [ 5 73 39  6  5 12 52 36  5 78]\n",
    " [ 5 29 78 12 79  6 61  5 59 63]\n",
    " [78 69 29 24  5  6 52  5 63 76]]\n",
    " ```\n",
    " although the exact numbers will be different. Check to make sure the data is shifted over one step for `y`."
   ]
  },
  {
   "cell_type": "markdown",
   "metadata": {
    "deletable": true,
    "editable": true
   },
   "source": [
    "## Building the model\n",
    "\n",
    "Below is where you'll build the network. We'll break it up into parts so it's easier to reason about each bit. Then we can connect them up into the whole network.\n",
    "\n",
    "<img src=\"assets/charRNN.png\" width=500px>\n",
    "\n",
    "\n",
    "### Inputs\n",
    "\n",
    "First off we'll create our input placeholders. As usual we need placeholders for the training data and the targets. We'll also create a placeholder for dropout layers called `keep_prob`. This will be a scalar, that is a 0-D tensor. To make a scalar, you create a placeholder without giving it a size.\n",
    "\n",
    "> **Exercise:** Create the input placeholders in the function below."
   ]
  },
  {
   "cell_type": "code",
<<<<<<< HEAD
   "execution_count": 9,
   "metadata": {
    "collapsed": true,
    "deletable": true,
    "editable": true
   },
=======
   "execution_count": null,
   "metadata": {},
>>>>>>> upstream/master
   "outputs": [],
   "source": [
    "def build_inputs(batch_size, num_steps):\n",
    "    ''' Define placeholders for inputs, targets, and dropout \n",
    "    \n",
    "        Arguments\n",
    "        ---------\n",
    "        batch_size: Batch size, number of sequences per batch\n",
    "        num_steps: Number of sequence steps in a batch\n",
    "        \n",
    "    '''\n",
    "    # Declare placeholders we'll feed into the graph\n",
    "    inputs = \n",
    "    targets = \n",
    "    \n",
    "    # Keep probability placeholder for drop out layers\n",
    "    keep_prob = \n",
    "    \n",
    "    return inputs, targets, keep_prob"
   ]
  },
  {
   "cell_type": "markdown",
   "metadata": {
    "deletable": true,
    "editable": true
   },
   "source": [
    "### LSTM Cell\n",
    "\n",
    "Here we will create the LSTM cell we'll use in the hidden layer. We'll use this cell as a building block for the RNN. So we aren't actually defining the RNN here, just the type of cell we'll use in the hidden layer.\n",
    "\n",
    "We first create a basic LSTM cell with\n",
    "\n",
    "```python\n",
    "lstm = tf.contrib.rnn.BasicLSTMCell(num_units)\n",
    "```\n",
    "\n",
    "where `num_units` is the number of units in the hidden layers in the cell. Then we can add dropout by wrapping it with \n",
    "\n",
    "```python\n",
    "tf.contrib.rnn.DropoutWrapper(lstm, output_keep_prob=keep_prob)\n",
    "```\n",
    "You pass in a cell and it will automatically add dropout to the inputs or outputs. Finally, we can stack up the LSTM cells into layers with [`tf.contrib.rnn.MultiRNNCell`](https://www.tensorflow.org/versions/r1.0/api_docs/python/tf/contrib/rnn/MultiRNNCell). With this, you pass in a list of cells and it will send the output of one cell into the next cell. Previously with TensorFlow 1.0, you could do this\n",
    "\n",
    "```python\n",
    "tf.contrib.rnn.MultiRNNCell([cell]*num_layers)\n",
    "```\n",
    "\n",
    "This might look a little weird if you know Python well because this will create a list of the same `cell` object. However, TensorFlow 1.0 will create different weight matrices for all `cell` objects. But, starting with TensorFlow 1.1 you actually need to create new cell objects in the list. To get it to work in TensorFlow 1.1, it should look like\n",
    "\n",
    "```python\n",
    "def build_cell(num_units, keep_prob):\n",
    "    lstm = tf.contrib.rnn.BasicLSTMCell(num_units)\n",
    "    drop = tf.contrib.rnn.DropoutWrapper(lstm, output_keep_prob=keep_prob)\n",
    "    \n",
    "    return drop\n",
    "    \n",
    "tf.contrib.rnn.MultiRNNCell([build_cell(num_units, keep_prob) for _ in range(num_layers)])\n",
    "```\n",
    "\n",
    "Even though this is actually multiple LSTM cells stacked on each other, you can treat the multiple layers as one cell.\n",
    "\n",
    "We also need to create an initial cell state of all zeros. This can be done like so\n",
    "\n",
    "```python\n",
    "initial_state = cell.zero_state(batch_size, tf.float32)\n",
    "```\n",
    "\n",
    "Below, we implement the `build_lstm` function to create these LSTM cells and the initial state."
   ]
  },
  {
   "cell_type": "code",
<<<<<<< HEAD
   "execution_count": 10,
   "metadata": {
    "collapsed": true,
    "deletable": true,
    "editable": true
   },
=======
   "execution_count": null,
   "metadata": {},
>>>>>>> upstream/master
   "outputs": [],
   "source": [
    "def build_lstm(lstm_size, num_layers, batch_size, keep_prob):\n",
    "    ''' Build LSTM cell.\n",
    "    \n",
    "        Arguments\n",
    "        ---------\n",
    "        keep_prob: Scalar tensor (tf.placeholder) for the dropout keep probability\n",
    "        lstm_size: Size of the hidden layers in the LSTM cells\n",
    "        num_layers: Number of LSTM layers\n",
    "        batch_size: Batch size\n",
    "\n",
    "    '''\n",
    "    ### Build the LSTM Cell\n",
    "    # Use a basic LSTM cell\n",
    "    lstm = \n",
    "    \n",
    "    # Add dropout to the cell outputs\n",
    "    drop = \n",
    "    \n",
    "    # Stack up multiple LSTM layers, for deep learning\n",
    "    cell = \n",
    "    initial_state = \n",
    "    \n",
    "    return cell, initial_state"
   ]
  },
  {
   "cell_type": "markdown",
   "metadata": {
    "deletable": true,
    "editable": true
   },
   "source": [
    "### RNN Output\n",
    "\n",
    "Here we'll create the output layer. We need to connect the output of the RNN cells to a full connected layer with a softmax output. The softmax output gives us a probability distribution we can use to predict the next character, so we want this layer to have size $C$, the number of classes/characters we have in our text.\n",
    "\n",
    "If our input has batch size $N$, number of steps $M$, and the hidden layer has $L$ hidden units, then the output is a 3D tensor with size $N \\times M \\times L$. The output of each LSTM cell has size $L$, we have $M$ of them, one for each sequence step, and we have $N$ sequences. So the total size is $N \\times M \\times L$. \n",
    "\n",
    "We are using the same fully connected layer, the same weights, for each of the outputs. Then, to make things easier, we should reshape the outputs into a 2D tensor with shape $(M * N) \\times L$. That is, one row for each sequence and step, where the values of each row are the output from the LSTM cells. We get the LSTM output as a list, `lstm_output`. First we need to concatenate this whole list into one array with [`tf.concat`](https://www.tensorflow.org/api_docs/python/tf/concat). Then, reshape it (with `tf.reshape`) to size $(M * N) \\times L$.\n",
    "\n",
    "One we have the outputs reshaped, we can do the matrix multiplication with the weights. We need to wrap the weight and bias variables in a variable scope with `tf.variable_scope(scope_name)` because there are weights being created in the LSTM cells. TensorFlow will throw an error if the weights created here have the same names as the weights created in the LSTM cells, which they will be default. To avoid this, we wrap the variables in a variable scope so we can give them unique names.\n",
    "\n",
    "> **Exercise:** Implement the output layer in the function below."
   ]
  },
  {
   "cell_type": "code",
<<<<<<< HEAD
   "execution_count": 11,
   "metadata": {
    "collapsed": true,
    "deletable": true,
    "editable": true
   },
=======
   "execution_count": null,
   "metadata": {},
>>>>>>> upstream/master
   "outputs": [],
   "source": [
    "def build_output(lstm_output, in_size, out_size):\n",
    "    ''' Build a softmax layer, return the softmax output and logits.\n",
    "    \n",
    "        Arguments\n",
    "        ---------\n",
    "        \n",
    "        lstm_output: List of output tensors from the LSTM layer\n",
    "        in_size: Size of the input tensor, for example, size of the LSTM cells\n",
    "        out_size: Size of this softmax layer\n",
    "    \n",
    "    '''\n",
    "\n",
    "    # Reshape output so it's a bunch of rows, one row for each step for each sequence.\n",
    "    # Concatenate lstm_output over axis 1 (the columns)\n",
    "    seq_output = \n",
    "    # Reshape seq_output to a 2D tensor with lstm_size columns\n",
    "    x = \n",
    "    \n",
    "    # Connect the RNN outputs to a softmax layer\n",
    "    with tf.variable_scope('softmax'):\n",
    "        # Create the weight and bias variables here\n",
    "        softmax_w = \n",
    "        softmax_b = \n",
    "    \n",
    "    # Since output is a bunch of rows of RNN cell outputs, logits will be a bunch\n",
    "    # of rows of logit outputs, one for each step and sequence\n",
    "    logits = \n",
    "    \n",
    "    # Use softmax to get the probabilities for predicted characters\n",
    "    out = \n",
    "    \n",
    "    return out, logits"
   ]
  },
  {
   "cell_type": "markdown",
   "metadata": {
    "deletable": true,
    "editable": true
   },
   "source": [
    "### Training loss\n",
    "\n",
    "Next up is the training loss. We get the logits and targets and calculate the softmax cross-entropy loss. First we need to one-hot encode the targets, we're getting them as encoded characters. Then, reshape the one-hot targets so it's a 2D tensor with size $(M*N) \\times C$ where $C$ is the number of classes/characters we have. Remember that we reshaped the LSTM outputs and ran them through a fully connected layer with $C$ units. So our logits will also have size $(M*N) \\times C$.\n",
    "\n",
    "Then we run the logits and targets through `tf.nn.softmax_cross_entropy_with_logits` and find the mean to get the loss.\n",
    "\n",
    ">**Exercise:** Implement the loss calculation in the function below."
   ]
  },
  {
   "cell_type": "code",
<<<<<<< HEAD
   "execution_count": 12,
   "metadata": {
    "collapsed": true,
    "deletable": true,
    "editable": true
   },
=======
   "execution_count": null,
   "metadata": {},
>>>>>>> upstream/master
   "outputs": [],
   "source": [
    "def build_loss(logits, targets, lstm_size, num_classes):\n",
    "    ''' Calculate the loss from the logits and the targets.\n",
    "    \n",
    "        Arguments\n",
    "        ---------\n",
    "        logits: Logits from final fully connected layer\n",
    "        targets: Targets for supervised learning\n",
    "        lstm_size: Number of LSTM hidden units\n",
    "        num_classes: Number of classes in targets\n",
    "        \n",
    "    '''\n",
    "    \n",
    "    # One-hot encode targets and reshape to match logits, one row per sequence per step\n",
    "    y_one_hot = \n",
    "    y_reshaped =  \n",
    "    \n",
    "    # Softmax cross entropy loss\n",
    "    loss = \n",
    "    \n",
    "    return loss"
   ]
  },
  {
   "cell_type": "markdown",
   "metadata": {
    "deletable": true,
    "editable": true
   },
   "source": [
    "### Optimizer\n",
    "\n",
    "Here we build the optimizer. Normal RNNs have have issues gradients exploding and disappearing. LSTMs fix the disappearance problem, but the gradients can still grow without bound. To fix this, we can clip the gradients above some threshold. That is, if a gradient is larger than that threshold, we set it to the threshold. This will ensure the gradients never grow overly large. Then we use an AdamOptimizer for the learning step."
   ]
  },
  {
   "cell_type": "code",
<<<<<<< HEAD
   "execution_count": 13,
   "metadata": {
    "collapsed": true,
    "deletable": true,
    "editable": true
   },
=======
   "execution_count": null,
   "metadata": {},
>>>>>>> upstream/master
   "outputs": [],
   "source": [
    "def build_optimizer(loss, learning_rate, grad_clip):\n",
    "    ''' Build optmizer for training, using gradient clipping.\n",
    "    \n",
    "        Arguments:\n",
    "        loss: Network loss\n",
    "        learning_rate: Learning rate for optimizer\n",
    "    \n",
    "    '''\n",
    "    \n",
    "    # Optimizer for training, using gradient clipping to control exploding gradients\n",
    "    tvars = tf.trainable_variables()\n",
    "    grads, _ = tf.clip_by_global_norm(tf.gradients(loss, tvars), grad_clip)\n",
    "    train_op = tf.train.AdamOptimizer(learning_rate)\n",
    "    optimizer = train_op.apply_gradients(zip(grads, tvars))\n",
    "    \n",
    "    return optimizer"
   ]
  },
  {
   "cell_type": "markdown",
   "metadata": {
    "deletable": true,
    "editable": true
   },
   "source": [
    "### Build the network\n",
    "\n",
    "Now we can put all the pieces together and build a class for the network. To actually run data through the LSTM cells, we will use [`tf.nn.dynamic_rnn`](https://www.tensorflow.org/versions/r1.0/api_docs/python/tf/nn/dynamic_rnn). This function will pass the hidden and cell states across LSTM cells appropriately for us. It returns the outputs for each LSTM cell at each step for each sequence in the mini-batch. It also gives us the final LSTM state. We want to save this state as `final_state` so we can pass it to the first LSTM cell in the the next mini-batch run. For `tf.nn.dynamic_rnn`, we pass in the cell and initial state we get from `build_lstm`, as well as our input sequences. Also, we need to one-hot encode the inputs before going into the RNN. \n",
    "\n",
    "> **Exercise:** Use the functions you've implemented previously and `tf.nn.dynamic_rnn` to build the network."
   ]
  },
  {
   "cell_type": "code",
<<<<<<< HEAD
   "execution_count": 14,
   "metadata": {
    "collapsed": true,
    "deletable": true,
    "editable": true
   },
=======
   "execution_count": null,
   "metadata": {},
>>>>>>> upstream/master
   "outputs": [],
   "source": [
    "class CharRNN:\n",
    "    \n",
    "    def __init__(self, num_classes, batch_size=64, num_steps=50, \n",
    "                       lstm_size=128, num_layers=2, learning_rate=0.001, \n",
    "                       grad_clip=5, sampling=False):\n",
    "    \n",
    "        # When we're using this network for sampling later, we'll be passing in\n",
    "        # one character at a time, so providing an option for that\n",
    "        if sampling == True:\n",
    "            batch_size, num_steps = 1, 1\n",
    "        else:\n",
    "            batch_size, num_steps = batch_size, num_steps\n",
    "\n",
    "        tf.reset_default_graph()\n",
    "        \n",
    "        # Build the input placeholder tensors\n",
    "        self.inputs, self.targets, self.keep_prob = \n",
    "\n",
    "        # Build the LSTM cell\n",
    "        cell, self.initial_state = \n",
    "\n",
    "        ### Run the data through the RNN layers\n",
    "        # First, one-hot encode the input tokens\n",
    "        x_one_hot = \n",
    "        \n",
    "        # Run each sequence step through the RNN with tf.nn.dynamic_rnn \n",
    "        outputs, state =\n",
    "        self.final_state = state\n",
    "        \n",
    "        # Get softmax predictions and logits\n",
    "        self.prediction, self.logits = \n",
    "        \n",
    "        # Loss and optimizer (with gradient clipping)\n",
    "        self.loss =  \n",
    "        self.optimizer = "
   ]
  },
  {
   "cell_type": "markdown",
   "metadata": {
    "deletable": true,
    "editable": true
   },
   "source": [
    "## Hyperparameters\n",
    "\n",
    "Here are the hyperparameters for the network.\n",
    "\n",
    "* `batch_size` - Number of sequences running through the network in one pass.\n",
    "* `num_steps` - Number of characters in the sequence the network is trained on. Larger is better typically, the network will learn more long range dependencies. But it takes longer to train. 100 is typically a good number here.\n",
    "* `lstm_size` - The number of units in the hidden layers.\n",
    "* `num_layers` - Number of hidden LSTM layers to use\n",
    "* `learning_rate` - Learning rate for training\n",
    "* `keep_prob` - The dropout keep probability when training. If you're network is overfitting, try decreasing this.\n",
    "\n",
    "Here's some good advice from Andrej Karpathy on training the network. I'm going to copy it in here for your benefit, but also link to [where it originally came from](https://github.com/karpathy/char-rnn#tips-and-tricks).\n",
    "\n",
    "> ## Tips and Tricks\n",
    "\n",
    ">### Monitoring Validation Loss vs. Training Loss\n",
    ">If you're somewhat new to Machine Learning or Neural Networks it can take a bit of expertise to get good models. The most important quantity to keep track of is the difference between your training loss (printed during training) and the validation loss (printed once in a while when the RNN is run on the validation data (by default every 1000 iterations)). In particular:\n",
    "\n",
    "> - If your training loss is much lower than validation loss then this means the network might be **overfitting**. Solutions to this are to decrease your network size, or to increase dropout. For example you could try dropout of 0.5 and so on.\n",
    "> - If your training/validation loss are about equal then your model is **underfitting**. Increase the size of your model (either number of layers or the raw number of neurons per layer)\n",
    "\n",
    "> ### Approximate number of parameters\n",
    "\n",
    "> The two most important parameters that control the model are `lstm_size` and `num_layers`. I would advise that you always use `num_layers` of either 2/3. The `lstm_size` can be adjusted based on how much data you have. The two important quantities to keep track of here are:\n",
    "\n",
    "> - The number of parameters in your model. This is printed when you start training.\n",
    "> - The size of your dataset. 1MB file is approximately 1 million characters.\n",
    "\n",
    ">These two should be about the same order of magnitude. It's a little tricky to tell. Here are some examples:\n",
    "\n",
    "> - I have a 100MB dataset and I'm using the default parameter settings (which currently print 150K parameters). My data size is significantly larger (100 mil >> 0.15 mil), so I expect to heavily underfit. I am thinking I can comfortably afford to make `lstm_size` larger.\n",
    "> - I have a 10MB dataset and running a 10 million parameter model. I'm slightly nervous and I'm carefully monitoring my validation loss. If it's larger than my training loss then I may want to try to increase dropout a bit and see if that helps the validation loss.\n",
    "\n",
    "> ### Best models strategy\n",
    "\n",
    ">The winning strategy to obtaining very good models (if you have the compute time) is to always err on making the network larger (as large as you're willing to wait for it to compute) and then try different dropout values (between 0,1). Whatever model has the best validation performance (the loss, written in the checkpoint filename, low is good) is the one you should use in the end.\n",
    "\n",
    ">It is very common in deep learning to run many different models with many different hyperparameter settings, and in the end take whatever checkpoint gave the best validation performance.\n",
    "\n",
    ">By the way, the size of your training and validation splits are also parameters. Make sure you have a decent amount of data in your validation set or otherwise the validation performance will be noisy and not very informative."
   ]
  },
  {
   "cell_type": "code",
<<<<<<< HEAD
   "execution_count": 15,
   "metadata": {
    "collapsed": true,
    "deletable": true,
    "editable": true
   },
=======
   "execution_count": null,
   "metadata": {},
>>>>>>> upstream/master
   "outputs": [],
   "source": [
    "batch_size = 10         # Sequences per batch\n",
    "num_steps = 50          # Number of sequence steps per batch\n",
    "lstm_size = 128         # Size of hidden layers in LSTMs\n",
    "num_layers = 2          # Number of LSTM layers\n",
    "learning_rate = 0.01    # Learning rate\n",
    "keep_prob = 0.5         # Dropout keep probability"
   ]
  },
  {
   "cell_type": "markdown",
   "metadata": {
    "deletable": true,
    "editable": true
   },
   "source": [
    "## Time for training\n",
    "\n",
    "This is typical training code, passing inputs and targets into the network, then running the optimizer. Here we also get back the final LSTM state for the mini-batch. Then, we pass that state back into the network so the next batch can continue the state from the previous batch. And every so often (set by `save_every_n`) I save a checkpoint.\n",
    "\n",
    "Here I'm saving checkpoints with the format\n",
    "\n",
    "`i{iteration number}_l{# hidden layer units}.ckpt`\n",
    "\n",
    "> **Exercise:** Set the hyperparameters above to train the network. Watch the training loss, it should be consistently dropping. Also, I highly advise running this on a GPU."
   ]
  },
  {
   "cell_type": "code",
   "execution_count": 16,
   "metadata": {
<<<<<<< HEAD
    "collapsed": false,
    "deletable": true,
    "editable": true,
=======
>>>>>>> upstream/master
    "scrolled": true
   },
   "outputs": [
    {
     "name": "stdout",
     "output_type": "stream",
     "text": [
      "Epoch: 1/20...  Training Step: 1...  Training loss: 4.4218...  3.9725 sec/batch\n",
      "Epoch: 1/20...  Training Step: 2...  Training loss: 4.3429...  3.9085 sec/batch\n",
      "Epoch: 1/20...  Training Step: 3...  Training loss: 3.9503...  4.0532 sec/batch\n",
      "Epoch: 1/20...  Training Step: 4...  Training loss: 5.0374...  3.8750 sec/batch\n",
      "Epoch: 1/20...  Training Step: 5...  Training loss: 4.2293...  3.9080 sec/batch\n",
      "Epoch: 1/20...  Training Step: 6...  Training loss: 3.7693...  3.8635 sec/batch\n",
      "Epoch: 1/20...  Training Step: 7...  Training loss: 3.6828...  4.0608 sec/batch\n",
      "Epoch: 1/20...  Training Step: 8...  Training loss: 3.6062...  4.0681 sec/batch\n",
      "Epoch: 1/20...  Training Step: 9...  Training loss: 3.4899...  3.8455 sec/batch\n",
      "Epoch: 1/20...  Training Step: 10...  Training loss: 3.4344...  3.8690 sec/batch\n",
      "Epoch: 1/20...  Training Step: 11...  Training loss: 3.3797...  3.9600 sec/batch\n",
      "Epoch: 1/20...  Training Step: 12...  Training loss: 3.3599...  3.8215 sec/batch\n",
      "Epoch: 1/20...  Training Step: 13...  Training loss: 3.3296...  3.6345 sec/batch\n",
      "Epoch: 1/20...  Training Step: 14...  Training loss: 3.3432...  3.6430 sec/batch\n",
      "Epoch: 1/20...  Training Step: 15...  Training loss: 3.3250...  3.6673 sec/batch\n",
      "Epoch: 1/20...  Training Step: 16...  Training loss: 3.2873...  4.0685 sec/batch\n",
      "Epoch: 1/20...  Training Step: 17...  Training loss: 3.2662...  4.0160 sec/batch\n",
      "Epoch: 1/20...  Training Step: 18...  Training loss: 3.2935...  4.0390 sec/batch\n",
      "Epoch: 1/20...  Training Step: 19...  Training loss: 3.2723...  3.9849 sec/batch\n",
      "Epoch: 1/20...  Training Step: 20...  Training loss: 3.2330...  3.8360 sec/batch\n",
      "Epoch: 1/20...  Training Step: 21...  Training loss: 3.2573...  3.7635 sec/batch\n",
      "Epoch: 1/20...  Training Step: 22...  Training loss: 3.2329...  3.8083 sec/batch\n",
      "Epoch: 1/20...  Training Step: 23...  Training loss: 3.2371...  3.9395 sec/batch\n",
      "Epoch: 1/20...  Training Step: 24...  Training loss: 3.2344...  3.8785 sec/batch\n",
      "Epoch: 1/20...  Training Step: 25...  Training loss: 3.2098...  3.9974 sec/batch\n",
      "Epoch: 1/20...  Training Step: 26...  Training loss: 3.2292...  3.8630 sec/batch\n",
      "Epoch: 1/20...  Training Step: 27...  Training loss: 3.2178...  4.0115 sec/batch\n",
      "Epoch: 1/20...  Training Step: 28...  Training loss: 3.1944...  3.8925 sec/batch\n",
      "Epoch: 1/20...  Training Step: 29...  Training loss: 3.2003...  3.9380 sec/batch\n",
      "Epoch: 1/20...  Training Step: 30...  Training loss: 3.2140...  4.0148 sec/batch\n",
      "Epoch: 1/20...  Training Step: 31...  Training loss: 3.2259...  3.8039 sec/batch\n",
      "Epoch: 1/20...  Training Step: 32...  Training loss: 3.1993...  3.7760 sec/batch\n",
      "Epoch: 1/20...  Training Step: 33...  Training loss: 3.1856...  3.7335 sec/batch\n",
      "Epoch: 1/20...  Training Step: 34...  Training loss: 3.1935...  3.7860 sec/batch\n",
      "Epoch: 1/20...  Training Step: 35...  Training loss: 3.1803...  3.9905 sec/batch\n",
      "Epoch: 1/20...  Training Step: 36...  Training loss: 3.1938...  3.9767 sec/batch\n",
      "Epoch: 1/20...  Training Step: 37...  Training loss: 3.1595...  3.9578 sec/batch\n",
      "Epoch: 1/20...  Training Step: 38...  Training loss: 3.1712...  3.9440 sec/batch\n",
      "Epoch: 1/20...  Training Step: 39...  Training loss: 3.1578...  3.8055 sec/batch\n",
      "Epoch: 1/20...  Training Step: 40...  Training loss: 3.1657...  3.7570 sec/batch\n",
      "Epoch: 1/20...  Training Step: 41...  Training loss: 3.1571...  3.7565 sec/batch\n",
      "Epoch: 1/20...  Training Step: 42...  Training loss: 3.1593...  3.9665 sec/batch\n",
      "Epoch: 1/20...  Training Step: 43...  Training loss: 3.1525...  3.9660 sec/batch\n",
      "Epoch: 1/20...  Training Step: 44...  Training loss: 3.1489...  3.9320 sec/batch\n",
      "Epoch: 1/20...  Training Step: 45...  Training loss: 3.1463...  4.0730 sec/batch\n",
      "Epoch: 1/20...  Training Step: 46...  Training loss: 3.1623...  3.9145 sec/batch\n",
      "Epoch: 1/20...  Training Step: 47...  Training loss: 3.1633...  3.8555 sec/batch\n",
      "Epoch: 1/20...  Training Step: 48...  Training loss: 3.1709...  3.7850 sec/batch\n",
      "Epoch: 1/20...  Training Step: 49...  Training loss: 3.1640...  3.8230 sec/batch\n",
      "Epoch: 1/20...  Training Step: 50...  Training loss: 3.1646...  3.8205 sec/batch\n",
      "Epoch: 1/20...  Training Step: 51...  Training loss: 3.1532...  3.7440 sec/batch\n",
      "Epoch: 1/20...  Training Step: 52...  Training loss: 3.1422...  3.7590 sec/batch\n",
      "Epoch: 1/20...  Training Step: 53...  Training loss: 3.1554...  3.7780 sec/batch\n",
      "Epoch: 1/20...  Training Step: 54...  Training loss: 3.1377...  3.9775 sec/batch\n",
      "Epoch: 1/20...  Training Step: 55...  Training loss: 3.1509...  3.9930 sec/batch\n",
      "Epoch: 1/20...  Training Step: 56...  Training loss: 3.1314...  4.0100 sec/batch\n",
      "Epoch: 1/20...  Training Step: 57...  Training loss: 3.1479...  3.9318 sec/batch\n",
      "Epoch: 1/20...  Training Step: 58...  Training loss: 3.1422...  3.7892 sec/batch\n",
      "Epoch: 1/20...  Training Step: 59...  Training loss: 3.1281...  3.7890 sec/batch\n",
      "Epoch: 1/20...  Training Step: 60...  Training loss: 3.1374...  4.0160 sec/batch\n",
      "Epoch: 1/20...  Training Step: 61...  Training loss: 3.1443...  3.9161 sec/batch\n",
      "Epoch: 1/20...  Training Step: 62...  Training loss: 3.1576...  3.7355 sec/batch\n",
      "Epoch: 1/20...  Training Step: 63...  Training loss: 3.1634...  3.7290 sec/batch\n",
      "Epoch: 1/20...  Training Step: 64...  Training loss: 3.1158...  3.8932 sec/batch\n",
      "Epoch: 1/20...  Training Step: 65...  Training loss: 3.1232...  3.8220 sec/batch\n",
      "Epoch: 1/20...  Training Step: 66...  Training loss: 3.1484...  3.8715 sec/batch\n",
      "Epoch: 1/20...  Training Step: 67...  Training loss: 3.1363...  3.8416 sec/batch\n",
      "Epoch: 1/20...  Training Step: 68...  Training loss: 3.0958...  3.7345 sec/batch\n",
      "Epoch: 1/20...  Training Step: 69...  Training loss: 3.1113...  3.7650 sec/batch\n",
      "Epoch: 1/20...  Training Step: 70...  Training loss: 3.1344...  3.7820 sec/batch\n",
      "Epoch: 1/20...  Training Step: 71...  Training loss: 3.1228...  3.7310 sec/batch\n",
      "Epoch: 1/20...  Training Step: 72...  Training loss: 3.1392...  3.7230 sec/batch\n",
      "Epoch: 1/20...  Training Step: 73...  Training loss: 3.1182...  3.7925 sec/batch\n",
      "Epoch: 1/20...  Training Step: 74...  Training loss: 3.1209...  4.1085 sec/batch\n",
      "Epoch: 1/20...  Training Step: 75...  Training loss: 3.1271...  4.3270 sec/batch\n",
      "Epoch: 1/20...  Training Step: 76...  Training loss: 3.1267...  4.1075 sec/batch\n",
      "Epoch: 1/20...  Training Step: 77...  Training loss: 3.1219...  4.1891 sec/batch\n",
      "Epoch: 1/20...  Training Step: 78...  Training loss: 3.1152...  4.1936 sec/batch\n",
      "Epoch: 1/20...  Training Step: 79...  Training loss: 3.1054...  3.9680 sec/batch\n",
      "Epoch: 1/20...  Training Step: 80...  Training loss: 3.0911...  4.0855 sec/batch\n",
      "Epoch: 1/20...  Training Step: 81...  Training loss: 3.0988...  3.8647 sec/batch\n",
      "Epoch: 1/20...  Training Step: 82...  Training loss: 3.1037...  3.9110 sec/batch\n",
      "Epoch: 1/20...  Training Step: 83...  Training loss: 3.1177...  3.8585 sec/batch\n",
      "Epoch: 1/20...  Training Step: 84...  Training loss: 3.1066...  3.8006 sec/batch\n",
      "Epoch: 1/20...  Training Step: 85...  Training loss: 3.1026...  3.7545 sec/batch\n",
      "Epoch: 1/20...  Training Step: 86...  Training loss: 3.1172...  3.9485 sec/batch\n",
      "Epoch: 1/20...  Training Step: 87...  Training loss: 3.1043...  3.8739 sec/batch\n",
      "Epoch: 1/20...  Training Step: 88...  Training loss: 3.0984...  3.9590 sec/batch\n",
      "Epoch: 1/20...  Training Step: 89...  Training loss: 3.1130...  3.8840 sec/batch\n",
      "Epoch: 1/20...  Training Step: 90...  Training loss: 3.1013...  3.8860 sec/batch\n",
      "Epoch: 1/20...  Training Step: 91...  Training loss: 3.1093...  4.1460 sec/batch\n",
      "Epoch: 1/20...  Training Step: 92...  Training loss: 3.0944...  4.0960 sec/batch\n",
      "Epoch: 1/20...  Training Step: 93...  Training loss: 3.1030...  3.8323 sec/batch\n",
      "Epoch: 1/20...  Training Step: 94...  Training loss: 3.0992...  3.9527 sec/batch\n",
      "Epoch: 1/20...  Training Step: 95...  Training loss: 3.0855...  3.8950 sec/batch\n",
      "Epoch: 1/20...  Training Step: 96...  Training loss: 3.0798...  4.1100 sec/batch\n",
      "Epoch: 1/20...  Training Step: 97...  Training loss: 3.0885...  4.4226 sec/batch\n",
      "Epoch: 1/20...  Training Step: 98...  Training loss: 3.0816...  3.9544 sec/batch\n",
      "Epoch: 1/20...  Training Step: 99...  Training loss: 3.0811...  3.9435 sec/batch\n",
      "Epoch: 1/20...  Training Step: 100...  Training loss: 3.0699...  3.9745 sec/batch\n",
      "Epoch: 1/20...  Training Step: 101...  Training loss: 3.0797...  3.9840 sec/batch\n",
      "Epoch: 1/20...  Training Step: 102...  Training loss: 3.0672...  3.9665 sec/batch\n",
      "Epoch: 1/20...  Training Step: 103...  Training loss: 3.0732...  3.8635 sec/batch\n",
      "Epoch: 1/20...  Training Step: 104...  Training loss: 3.0604...  3.8964 sec/batch\n",
      "Epoch: 1/20...  Training Step: 105...  Training loss: 3.0577...  3.8769 sec/batch\n",
      "Epoch: 1/20...  Training Step: 106...  Training loss: 3.0544...  4.2918 sec/batch\n",
      "Epoch: 1/20...  Training Step: 107...  Training loss: 3.0282...  3.8770 sec/batch\n",
      "Epoch: 1/20...  Training Step: 108...  Training loss: 3.0402...  3.9040 sec/batch\n",
      "Epoch: 1/20...  Training Step: 109...  Training loss: 3.0414...  3.7930 sec/batch\n",
      "Epoch: 1/20...  Training Step: 110...  Training loss: 3.0012...  3.9865 sec/batch\n",
      "Epoch: 1/20...  Training Step: 111...  Training loss: 3.0064...  4.1945 sec/batch\n",
      "Epoch: 1/20...  Training Step: 112...  Training loss: 3.0483...  4.0785 sec/batch\n",
      "Epoch: 1/20...  Training Step: 113...  Training loss: 3.0257...  4.0707 sec/batch\n",
      "Epoch: 1/20...  Training Step: 114...  Training loss: 3.0105...  3.7990 sec/batch\n",
      "Epoch: 1/20...  Training Step: 115...  Training loss: 3.0039...  3.7966 sec/batch\n",
      "Epoch: 1/20...  Training Step: 116...  Training loss: 3.0074...  3.8525 sec/batch\n",
      "Epoch: 1/20...  Training Step: 117...  Training loss: 3.0064...  3.8293 sec/batch\n",
      "Epoch: 1/20...  Training Step: 118...  Training loss: 3.0193...  3.7685 sec/batch\n",
      "Epoch: 1/20...  Training Step: 119...  Training loss: 3.0214...  3.7955 sec/batch\n",
      "Epoch: 1/20...  Training Step: 120...  Training loss: 2.9936...  4.1770 sec/batch\n",
      "Epoch: 1/20...  Training Step: 121...  Training loss: 3.1582...  3.9925 sec/batch\n",
      "Epoch: 1/20...  Training Step: 122...  Training loss: 3.1767...  3.9098 sec/batch\n",
      "Epoch: 1/20...  Training Step: 123...  Training loss: 3.1094...  3.9510 sec/batch\n",
      "Epoch: 1/20...  Training Step: 124...  Training loss: 3.0587...  3.9970 sec/batch\n",
      "Epoch: 1/20...  Training Step: 125...  Training loss: 2.9732...  3.7296 sec/batch\n",
      "Epoch: 1/20...  Training Step: 126...  Training loss: 2.9533...  3.8850 sec/batch\n",
      "Epoch: 1/20...  Training Step: 127...  Training loss: 2.9812...  3.7540 sec/batch\n",
      "Epoch: 1/20...  Training Step: 128...  Training loss: 2.9732...  3.7624 sec/batch\n",
      "Epoch: 1/20...  Training Step: 129...  Training loss: 2.9732...  3.8421 sec/batch\n",
      "Epoch: 1/20...  Training Step: 130...  Training loss: 2.9550...  4.1685 sec/batch\n",
      "Epoch: 1/20...  Training Step: 131...  Training loss: 2.9770...  3.9815 sec/batch\n",
      "Epoch: 1/20...  Training Step: 132...  Training loss: 2.9226...  4.1405 sec/batch\n",
      "Epoch: 1/20...  Training Step: 133...  Training loss: 2.9323...  4.3005 sec/batch\n",
      "Epoch: 1/20...  Training Step: 134...  Training loss: 2.9226...  4.0598 sec/batch\n",
      "Epoch: 1/20...  Training Step: 135...  Training loss: 2.8793...  3.8260 sec/batch\n",
      "Epoch: 1/20...  Training Step: 136...  Training loss: 2.9000...  3.7465 sec/batch\n",
      "Epoch: 1/20...  Training Step: 137...  Training loss: 2.8988...  3.8370 sec/batch\n",
      "Epoch: 1/20...  Training Step: 138...  Training loss: 2.8963...  4.3883 sec/batch\n",
      "Epoch: 1/20...  Training Step: 139...  Training loss: 2.9075...  3.9240 sec/batch\n",
      "Epoch: 1/20...  Training Step: 140...  Training loss: 2.8884...  3.9195 sec/batch\n",
      "Epoch: 1/20...  Training Step: 141...  Training loss: 2.8822...  3.9505 sec/batch\n",
      "Epoch: 1/20...  Training Step: 142...  Training loss: 2.8629...  4.0220 sec/batch\n",
      "Epoch: 1/20...  Training Step: 143...  Training loss: 2.8550...  4.0085 sec/batch\n",
      "Epoch: 1/20...  Training Step: 144...  Training loss: 2.8385...  4.0370 sec/batch\n",
      "Epoch: 1/20...  Training Step: 145...  Training loss: 2.8478...  4.3445 sec/batch\n",
      "Epoch: 1/20...  Training Step: 146...  Training loss: 2.8434...  4.3605 sec/batch\n",
      "Epoch: 1/20...  Training Step: 147...  Training loss: 2.8327...  4.1409 sec/batch\n",
      "Epoch: 1/20...  Training Step: 148...  Training loss: 2.8423...  4.0817 sec/batch\n",
      "Epoch: 1/20...  Training Step: 149...  Training loss: 2.7963...  4.1080 sec/batch\n",
      "Epoch: 1/20...  Training Step: 150...  Training loss: 2.8026...  4.1020 sec/batch\n",
      "Epoch: 1/20...  Training Step: 151...  Training loss: 2.8344...  4.0630 sec/batch\n",
      "Epoch: 1/20...  Training Step: 152...  Training loss: 2.8411...  3.7951 sec/batch\n",
      "Epoch: 1/20...  Training Step: 153...  Training loss: 2.7895...  4.1435 sec/batch\n",
      "Epoch: 1/20...  Training Step: 154...  Training loss: 2.7893...  3.9120 sec/batch\n",
      "Epoch: 1/20...  Training Step: 155...  Training loss: 2.7559...  3.8005 sec/batch\n",
      "Epoch: 1/20...  Training Step: 156...  Training loss: 2.7577...  3.7880 sec/batch\n",
      "Epoch: 1/20...  Training Step: 157...  Training loss: 2.7385...  3.7120 sec/batch\n",
      "Epoch: 1/20...  Training Step: 158...  Training loss: 2.7330...  3.7095 sec/batch\n",
      "Epoch: 1/20...  Training Step: 159...  Training loss: 2.6979...  3.6640 sec/batch\n",
      "Epoch: 1/20...  Training Step: 160...  Training loss: 2.7459...  3.9945 sec/batch\n",
      "Epoch: 1/20...  Training Step: 161...  Training loss: 2.7322...  4.0550 sec/batch\n",
      "Epoch: 1/20...  Training Step: 162...  Training loss: 2.7181...  4.1690 sec/batch\n",
      "Epoch: 1/20...  Training Step: 163...  Training loss: 2.6982...  4.0835 sec/batch\n",
      "Epoch: 1/20...  Training Step: 164...  Training loss: 2.6996...  4.0053 sec/batch\n",
      "Epoch: 1/20...  Training Step: 165...  Training loss: 2.7020...  3.7965 sec/batch\n",
      "Epoch: 1/20...  Training Step: 166...  Training loss: 2.6832...  3.7370 sec/batch\n",
      "Epoch: 1/20...  Training Step: 167...  Training loss: 2.6724...  3.7440 sec/batch\n",
      "Epoch: 1/20...  Training Step: 168...  Training loss: 2.6726...  4.0136 sec/batch\n",
      "Epoch: 1/20...  Training Step: 169...  Training loss: 2.6668...  4.0480 sec/batch\n",
      "Epoch: 1/20...  Training Step: 170...  Training loss: 2.6393...  4.2318 sec/batch\n",
      "Epoch: 1/20...  Training Step: 171...  Training loss: 2.6480...  3.8497 sec/batch\n",
      "Epoch: 1/20...  Training Step: 172...  Training loss: 2.6725...  3.7482 sec/batch\n",
      "Epoch: 1/20...  Training Step: 173...  Training loss: 2.6724...  3.7505 sec/batch\n",
      "Epoch: 1/20...  Training Step: 174...  Training loss: 2.6625...  3.7442 sec/batch\n",
      "Epoch: 1/20...  Training Step: 175...  Training loss: 2.6477...  3.7636 sec/batch\n",
      "Epoch: 1/20...  Training Step: 176...  Training loss: 2.6092...  3.7490 sec/batch\n",
      "Epoch: 1/20...  Training Step: 177...  Training loss: 2.6125...  3.8015 sec/batch\n",
      "Epoch: 1/20...  Training Step: 178...  Training loss: 2.5881...  3.8225 sec/batch\n",
      "Epoch: 1/20...  Training Step: 179...  Training loss: 2.5812...  3.7515 sec/batch\n",
      "Epoch: 1/20...  Training Step: 180...  Training loss: 2.5762...  3.7935 sec/batch\n",
      "Epoch: 1/20...  Training Step: 181...  Training loss: 2.5793...  3.7490 sec/batch\n",
      "Epoch: 1/20...  Training Step: 182...  Training loss: 2.5796...  3.7345 sec/batch\n",
      "Epoch: 1/20...  Training Step: 183...  Training loss: 2.5532...  3.8730 sec/batch\n",
      "Epoch: 1/20...  Training Step: 184...  Training loss: 2.5812...  3.8055 sec/batch\n",
      "Epoch: 1/20...  Training Step: 185...  Training loss: 2.5914...  3.8500 sec/batch\n",
      "Epoch: 1/20...  Training Step: 186...  Training loss: 2.5434...  3.7531 sec/batch\n",
      "Epoch: 1/20...  Training Step: 187...  Training loss: 2.5327...  3.7650 sec/batch\n",
      "Epoch: 1/20...  Training Step: 188...  Training loss: 2.5207...  4.0870 sec/batch\n",
      "Epoch: 1/20...  Training Step: 189...  Training loss: 2.5265...  4.2655 sec/batch\n",
      "Epoch: 1/20...  Training Step: 190...  Training loss: 2.5246...  3.8515 sec/batch\n",
      "Epoch: 1/20...  Training Step: 191...  Training loss: 2.5312...  3.8371 sec/batch\n",
      "Epoch: 1/20...  Training Step: 192...  Training loss: 2.4943...  4.1765 sec/batch\n",
      "Epoch: 1/20...  Training Step: 193...  Training loss: 2.5203...  4.4680 sec/batch\n",
      "Epoch: 1/20...  Training Step: 194...  Training loss: 2.5131...  4.1264 sec/batch\n",
      "Epoch: 1/20...  Training Step: 195...  Training loss: 2.5080...  4.2280 sec/batch\n",
      "Epoch: 1/20...  Training Step: 196...  Training loss: 2.4995...  4.1078 sec/batch\n",
      "Epoch: 1/20...  Training Step: 197...  Training loss: 2.5024...  4.2265 sec/batch\n",
      "Epoch: 1/20...  Training Step: 198...  Training loss: 2.4842...  3.8530 sec/batch\n",
      "Epoch: 2/20...  Training Step: 199...  Training loss: 2.5643...  4.1197 sec/batch\n",
      "Epoch: 2/20...  Training Step: 200...  Training loss: 2.4729...  4.1305 sec/batch\n",
      "Epoch: 2/20...  Training Step: 201...  Training loss: 2.4852...  3.6440 sec/batch\n",
      "Epoch: 2/20...  Training Step: 202...  Training loss: 2.4929...  3.7790 sec/batch\n",
      "Epoch: 2/20...  Training Step: 203...  Training loss: 2.4831...  3.8003 sec/batch\n",
      "Epoch: 2/20...  Training Step: 204...  Training loss: 2.4875...  3.7083 sec/batch\n",
      "Epoch: 2/20...  Training Step: 205...  Training loss: 2.4834...  4.0689 sec/batch\n",
      "Epoch: 2/20...  Training Step: 206...  Training loss: 2.4810...  4.0415 sec/batch\n",
      "Epoch: 2/20...  Training Step: 207...  Training loss: 2.4938...  4.0430 sec/batch\n",
      "Epoch: 2/20...  Training Step: 208...  Training loss: 2.4681...  4.0680 sec/batch\n",
      "Epoch: 2/20...  Training Step: 209...  Training loss: 2.4585...  3.7970 sec/batch\n",
      "Epoch: 2/20...  Training Step: 210...  Training loss: 2.4629...  3.9120 sec/batch\n",
      "Epoch: 2/20...  Training Step: 211...  Training loss: 2.4574...  3.9405 sec/batch\n",
      "Epoch: 2/20...  Training Step: 212...  Training loss: 2.4974...  3.9860 sec/batch\n",
      "Epoch: 2/20...  Training Step: 213...  Training loss: 2.4605...  4.0508 sec/batch\n",
      "Epoch: 2/20...  Training Step: 214...  Training loss: 2.4561...  3.9935 sec/batch\n",
      "Epoch: 2/20...  Training Step: 215...  Training loss: 2.4576...  3.9420 sec/batch\n",
      "Epoch: 2/20...  Training Step: 216...  Training loss: 2.4929...  3.9415 sec/batch\n",
      "Epoch: 2/20...  Training Step: 217...  Training loss: 2.4614...  3.7745 sec/batch\n",
      "Epoch: 2/20...  Training Step: 218...  Training loss: 2.4327...  3.7390 sec/batch\n",
      "Epoch: 2/20...  Training Step: 219...  Training loss: 2.4420...  4.0120 sec/batch\n",
      "Epoch: 2/20...  Training Step: 220...  Training loss: 2.4707...  4.0260 sec/batch\n",
      "Epoch: 2/20...  Training Step: 221...  Training loss: 2.4524...  4.1270 sec/batch\n",
      "Epoch: 2/20...  Training Step: 222...  Training loss: 2.4401...  3.9935 sec/batch\n",
      "Epoch: 2/20...  Training Step: 223...  Training loss: 2.4220...  3.9775 sec/batch\n",
      "Epoch: 2/20...  Training Step: 224...  Training loss: 2.4362...  3.7682 sec/batch\n",
      "Epoch: 2/20...  Training Step: 225...  Training loss: 2.4260...  3.7451 sec/batch\n",
      "Epoch: 2/20...  Training Step: 226...  Training loss: 2.4165...  4.0355 sec/batch\n",
      "Epoch: 2/20...  Training Step: 227...  Training loss: 2.4335...  3.8865 sec/batch\n",
      "Epoch: 2/20...  Training Step: 228...  Training loss: 2.4261...  3.8200 sec/batch\n",
      "Epoch: 2/20...  Training Step: 229...  Training loss: 2.4334...  3.8672 sec/batch\n",
      "Epoch: 2/20...  Training Step: 230...  Training loss: 2.4071...  3.7633 sec/batch\n",
      "Epoch: 2/20...  Training Step: 231...  Training loss: 2.3922...  3.8285 sec/batch\n",
      "Epoch: 2/20...  Training Step: 232...  Training loss: 2.4255...  4.3235 sec/batch\n",
      "Epoch: 2/20...  Training Step: 233...  Training loss: 2.3911...  4.2900 sec/batch\n",
      "Epoch: 2/20...  Training Step: 234...  Training loss: 2.4153...  3.8401 sec/batch\n",
      "Epoch: 2/20...  Training Step: 235...  Training loss: 2.4053...  3.8210 sec/batch\n",
      "Epoch: 2/20...  Training Step: 236...  Training loss: 2.3678...  3.8415 sec/batch\n",
      "Epoch: 2/20...  Training Step: 237...  Training loss: 2.3852...  3.7813 sec/batch\n",
      "Epoch: 2/20...  Training Step: 238...  Training loss: 2.3856...  3.7759 sec/batch\n",
      "Epoch: 2/20...  Training Step: 239...  Training loss: 2.3713...  3.9950 sec/batch\n",
      "Epoch: 2/20...  Training Step: 240...  Training loss: 2.3718...  4.0938 sec/batch\n",
      "Epoch: 2/20...  Training Step: 241...  Training loss: 2.3704...  4.0182 sec/batch\n",
      "Epoch: 2/20...  Training Step: 242...  Training loss: 2.3606...  4.1550 sec/batch\n",
      "Epoch: 2/20...  Training Step: 243...  Training loss: 2.3826...  4.4310 sec/batch\n",
      "Epoch: 2/20...  Training Step: 244...  Training loss: 2.3391...  4.2810 sec/batch\n",
      "Epoch: 2/20...  Training Step: 245...  Training loss: 2.3873...  4.1491 sec/batch\n",
      "Epoch: 2/20...  Training Step: 246...  Training loss: 2.3674...  4.1255 sec/batch\n",
      "Epoch: 2/20...  Training Step: 247...  Training loss: 2.3711...  3.9035 sec/batch\n",
      "Epoch: 2/20...  Training Step: 248...  Training loss: 2.3931...  3.7782 sec/batch\n",
      "Epoch: 2/20...  Training Step: 249...  Training loss: 2.3479...  3.7855 sec/batch\n",
      "Epoch: 2/20...  Training Step: 250...  Training loss: 2.3836...  3.8320 sec/batch\n",
      "Epoch: 2/20...  Training Step: 251...  Training loss: 2.3635...  3.8660 sec/batch\n",
      "Epoch: 2/20...  Training Step: 252...  Training loss: 2.3500...  3.8120 sec/batch\n",
      "Epoch: 2/20...  Training Step: 253...  Training loss: 2.3475...  3.7778 sec/batch\n",
      "Epoch: 2/20...  Training Step: 254...  Training loss: 2.3595...  3.7595 sec/batch\n",
      "Epoch: 2/20...  Training Step: 255...  Training loss: 2.3493...  3.7885 sec/batch\n",
      "Epoch: 2/20...  Training Step: 256...  Training loss: 2.3444...  3.8333 sec/batch\n",
      "Epoch: 2/20...  Training Step: 257...  Training loss: 2.3467...  3.8395 sec/batch\n",
      "Epoch: 2/20...  Training Step: 258...  Training loss: 2.3566...  3.8610 sec/batch\n",
      "Epoch: 2/20...  Training Step: 259...  Training loss: 2.3441...  3.8369 sec/batch\n",
      "Epoch: 2/20...  Training Step: 260...  Training loss: 2.3523...  3.7955 sec/batch\n",
      "Epoch: 2/20...  Training Step: 261...  Training loss: 2.3626...  4.0105 sec/batch\n",
      "Epoch: 2/20...  Training Step: 262...  Training loss: 2.3314...  4.0969 sec/batch\n",
      "Epoch: 2/20...  Training Step: 263...  Training loss: 2.3250...  4.0420 sec/batch\n",
      "Epoch: 2/20...  Training Step: 264...  Training loss: 2.3591...  4.2720 sec/batch\n",
      "Epoch: 2/20...  Training Step: 265...  Training loss: 2.3281...  4.0685 sec/batch\n",
      "Epoch: 2/20...  Training Step: 266...  Training loss: 2.3060...  4.0390 sec/batch\n",
      "Epoch: 2/20...  Training Step: 267...  Training loss: 2.3074...  3.8534 sec/batch\n",
      "Epoch: 2/20...  Training Step: 268...  Training loss: 2.3351...  3.8952 sec/batch\n",
      "Epoch: 2/20...  Training Step: 269...  Training loss: 2.3486...  3.9880 sec/batch\n",
      "Epoch: 2/20...  Training Step: 270...  Training loss: 2.3414...  4.0706 sec/batch\n",
      "Epoch: 2/20...  Training Step: 271...  Training loss: 2.3312...  4.2950 sec/batch\n",
      "Epoch: 2/20...  Training Step: 272...  Training loss: 2.3056...  4.0640 sec/batch\n",
      "Epoch: 2/20...  Training Step: 273...  Training loss: 2.3126...  4.0747 sec/batch\n",
      "Epoch: 2/20...  Training Step: 274...  Training loss: 2.3472...  4.0065 sec/batch\n",
      "Epoch: 2/20...  Training Step: 275...  Training loss: 2.3102...  3.9219 sec/batch\n",
      "Epoch: 2/20...  Training Step: 276...  Training loss: 2.3173...  3.7790 sec/batch\n",
      "Epoch: 2/20...  Training Step: 277...  Training loss: 2.2888...  4.1549 sec/batch\n",
      "Epoch: 2/20...  Training Step: 278...  Training loss: 2.3013...  3.9522 sec/batch\n",
      "Epoch: 2/20...  Training Step: 279...  Training loss: 2.2814...  3.8485 sec/batch\n",
      "Epoch: 2/20...  Training Step: 280...  Training loss: 2.3144...  3.8360 sec/batch\n",
      "Epoch: 2/20...  Training Step: 281...  Training loss: 2.2868...  3.7605 sec/batch\n",
      "Epoch: 2/20...  Training Step: 282...  Training loss: 2.2684...  3.7565 sec/batch\n",
      "Epoch: 2/20...  Training Step: 283...  Training loss: 2.2551...  3.7340 sec/batch\n",
      "Epoch: 2/20...  Training Step: 284...  Training loss: 2.2842...  3.7510 sec/batch\n",
      "Epoch: 2/20...  Training Step: 285...  Training loss: 2.2788...  3.8305 sec/batch\n",
      "Epoch: 2/20...  Training Step: 286...  Training loss: 2.2808...  4.2508 sec/batch\n",
      "Epoch: 2/20...  Training Step: 287...  Training loss: 2.2672...  4.0975 sec/batch\n",
      "Epoch: 2/20...  Training Step: 288...  Training loss: 2.2821...  3.7705 sec/batch\n",
      "Epoch: 2/20...  Training Step: 289...  Training loss: 2.2640...  4.1101 sec/batch\n",
      "Epoch: 2/20...  Training Step: 290...  Training loss: 2.2849...  4.1808 sec/batch\n",
      "Epoch: 2/20...  Training Step: 291...  Training loss: 2.2540...  3.7724 sec/batch\n",
      "Epoch: 2/20...  Training Step: 292...  Training loss: 2.2607...  4.0700 sec/batch\n",
      "Epoch: 2/20...  Training Step: 293...  Training loss: 2.2546...  3.9358 sec/batch\n",
      "Epoch: 2/20...  Training Step: 294...  Training loss: 2.2619...  3.7525 sec/batch\n",
      "Epoch: 2/20...  Training Step: 295...  Training loss: 2.2654...  3.6420 sec/batch\n",
      "Epoch: 2/20...  Training Step: 296...  Training loss: 2.2545...  3.6375 sec/batch\n",
      "Epoch: 2/20...  Training Step: 297...  Training loss: 2.2508...  3.6795 sec/batch\n",
      "Epoch: 2/20...  Training Step: 298...  Training loss: 2.2425...  3.8485 sec/batch\n",
      "Epoch: 2/20...  Training Step: 299...  Training loss: 2.2730...  3.7915 sec/batch\n",
      "Epoch: 2/20...  Training Step: 300...  Training loss: 2.2617...  3.7130 sec/batch\n",
      "Epoch: 2/20...  Training Step: 301...  Training loss: 2.2320...  3.7530 sec/batch\n",
      "Epoch: 2/20...  Training Step: 302...  Training loss: 2.2401...  3.8665 sec/batch\n",
      "Epoch: 2/20...  Training Step: 303...  Training loss: 2.2359...  4.0195 sec/batch\n",
      "Epoch: 2/20...  Training Step: 304...  Training loss: 2.2488...  3.9648 sec/batch\n",
      "Epoch: 2/20...  Training Step: 305...  Training loss: 2.2393...  4.2194 sec/batch\n",
      "Epoch: 2/20...  Training Step: 306...  Training loss: 2.2780...  4.2210 sec/batch\n",
      "Epoch: 2/20...  Training Step: 307...  Training loss: 2.2545...  4.1605 sec/batch\n",
      "Epoch: 2/20...  Training Step: 308...  Training loss: 2.2305...  4.3460 sec/batch\n",
      "Epoch: 2/20...  Training Step: 309...  Training loss: 2.2458...  4.0090 sec/batch\n",
      "Epoch: 2/20...  Training Step: 310...  Training loss: 2.2529...  4.1308 sec/batch\n",
      "Epoch: 2/20...  Training Step: 311...  Training loss: 2.2538...  3.9925 sec/batch\n",
      "Epoch: 2/20...  Training Step: 312...  Training loss: 2.2340...  4.0107 sec/batch\n",
      "Epoch: 2/20...  Training Step: 313...  Training loss: 2.2255...  4.1340 sec/batch\n",
      "Epoch: 2/20...  Training Step: 314...  Training loss: 2.1939...  4.0365 sec/batch\n",
      "Epoch: 2/20...  Training Step: 315...  Training loss: 2.2419...  3.8725 sec/batch\n",
      "Epoch: 2/20...  Training Step: 316...  Training loss: 2.2254...  3.9590 sec/batch\n",
      "Epoch: 2/20...  Training Step: 317...  Training loss: 2.2449...  3.9280 sec/batch\n",
      "Epoch: 2/20...  Training Step: 318...  Training loss: 2.2327...  3.9100 sec/batch\n",
      "Epoch: 2/20...  Training Step: 319...  Training loss: 2.2483...  4.1820 sec/batch\n",
      "Epoch: 2/20...  Training Step: 320...  Training loss: 2.2064...  4.3295 sec/batch\n",
      "Epoch: 2/20...  Training Step: 321...  Training loss: 2.2101...  4.0480 sec/batch\n",
      "Epoch: 2/20...  Training Step: 322...  Training loss: 2.2422...  4.0540 sec/batch\n",
      "Epoch: 2/20...  Training Step: 323...  Training loss: 2.2171...  3.8530 sec/batch\n",
      "Epoch: 2/20...  Training Step: 324...  Training loss: 2.1883...  3.8444 sec/batch\n",
      "Epoch: 2/20...  Training Step: 325...  Training loss: 2.2228...  3.7740 sec/batch\n",
      "Epoch: 2/20...  Training Step: 326...  Training loss: 2.2295...  3.8275 sec/batch\n",
      "Epoch: 2/20...  Training Step: 327...  Training loss: 2.2155...  4.0683 sec/batch\n",
      "Epoch: 2/20...  Training Step: 328...  Training loss: 2.2201...  3.9666 sec/batch\n",
      "Epoch: 2/20...  Training Step: 329...  Training loss: 2.1927...  3.9590 sec/batch\n",
      "Epoch: 2/20...  Training Step: 330...  Training loss: 2.1880...  3.8220 sec/batch\n",
      "Epoch: 2/20...  Training Step: 331...  Training loss: 2.2234...  4.0900 sec/batch\n",
      "Epoch: 2/20...  Training Step: 332...  Training loss: 2.2060...  3.9833 sec/batch\n",
      "Epoch: 2/20...  Training Step: 333...  Training loss: 2.2047...  3.7825 sec/batch\n",
      "Epoch: 2/20...  Training Step: 334...  Training loss: 2.2139...  3.9117 sec/batch\n",
      "Epoch: 2/20...  Training Step: 335...  Training loss: 2.2020...  3.8195 sec/batch\n",
      "Epoch: 2/20...  Training Step: 336...  Training loss: 2.1995...  3.8825 sec/batch\n",
      "Epoch: 2/20...  Training Step: 337...  Training loss: 2.2335...  3.8495 sec/batch\n",
      "Epoch: 2/20...  Training Step: 338...  Training loss: 2.1921...  3.9380 sec/batch\n",
      "Epoch: 2/20...  Training Step: 339...  Training loss: 2.2225...  3.7765 sec/batch\n",
      "Epoch: 2/20...  Training Step: 340...  Training loss: 2.1842...  3.7625 sec/batch\n",
      "Epoch: 2/20...  Training Step: 341...  Training loss: 2.1858...  3.8431 sec/batch\n",
      "Epoch: 2/20...  Training Step: 342...  Training loss: 2.1793...  4.1905 sec/batch\n",
      "Epoch: 2/20...  Training Step: 343...  Training loss: 2.1801...  3.8270 sec/batch\n",
      "Epoch: 2/20...  Training Step: 344...  Training loss: 2.2053...  3.8265 sec/batch\n",
      "Epoch: 2/20...  Training Step: 345...  Training loss: 2.1956...  3.8648 sec/batch\n",
      "Epoch: 2/20...  Training Step: 346...  Training loss: 2.2146...  4.0235 sec/batch\n",
      "Epoch: 2/20...  Training Step: 347...  Training loss: 2.1730...  4.2295 sec/batch\n",
      "Epoch: 2/20...  Training Step: 348...  Training loss: 2.1636...  3.9591 sec/batch\n",
      "Epoch: 2/20...  Training Step: 349...  Training loss: 2.1934...  3.8765 sec/batch\n",
      "Epoch: 2/20...  Training Step: 350...  Training loss: 2.2113...  4.0100 sec/batch\n",
      "Epoch: 2/20...  Training Step: 351...  Training loss: 2.1873...  4.1837 sec/batch\n",
      "Epoch: 2/20...  Training Step: 352...  Training loss: 2.1846...  3.9375 sec/batch\n",
      "Epoch: 2/20...  Training Step: 353...  Training loss: 2.1683...  3.8690 sec/batch\n",
      "Epoch: 2/20...  Training Step: 354...  Training loss: 2.1646...  3.7235 sec/batch\n",
      "Epoch: 2/20...  Training Step: 355...  Training loss: 2.1692...  3.7130 sec/batch\n",
      "Epoch: 2/20...  Training Step: 356...  Training loss: 2.1633...  3.6865 sec/batch\n",
      "Epoch: 2/20...  Training Step: 357...  Training loss: 2.1334...  3.7510 sec/batch\n",
      "Epoch: 2/20...  Training Step: 358...  Training loss: 2.2080...  3.7130 sec/batch\n",
      "Epoch: 2/20...  Training Step: 359...  Training loss: 2.1776...  3.8485 sec/batch\n",
      "Epoch: 2/20...  Training Step: 360...  Training loss: 2.1580...  4.3230 sec/batch\n",
      "Epoch: 2/20...  Training Step: 361...  Training loss: 2.1569...  3.9190 sec/batch\n",
      "Epoch: 2/20...  Training Step: 362...  Training loss: 2.1635...  4.0701 sec/batch\n",
      "Epoch: 2/20...  Training Step: 363...  Training loss: 2.1682...  4.1320 sec/batch\n",
      "Epoch: 2/20...  Training Step: 364...  Training loss: 2.1580...  4.0704 sec/batch\n",
      "Epoch: 2/20...  Training Step: 365...  Training loss: 2.1625...  4.0250 sec/batch\n",
      "Epoch: 2/20...  Training Step: 366...  Training loss: 2.1764...  4.0648 sec/batch\n",
      "Epoch: 2/20...  Training Step: 367...  Training loss: 2.1500...  4.1993 sec/batch\n",
      "Epoch: 2/20...  Training Step: 368...  Training loss: 2.1368...  4.1217 sec/batch\n",
      "Epoch: 2/20...  Training Step: 369...  Training loss: 2.1355...  4.0715 sec/batch\n",
      "Epoch: 2/20...  Training Step: 370...  Training loss: 2.1553...  3.9800 sec/batch\n",
      "Epoch: 2/20...  Training Step: 371...  Training loss: 2.1692...  3.9625 sec/batch\n",
      "Epoch: 2/20...  Training Step: 372...  Training loss: 2.1630...  3.9500 sec/batch\n",
      "Epoch: 2/20...  Training Step: 373...  Training loss: 2.1625...  4.0467 sec/batch\n",
      "Epoch: 2/20...  Training Step: 374...  Training loss: 2.1481...  4.1744 sec/batch\n",
      "Epoch: 2/20...  Training Step: 375...  Training loss: 2.1335...  4.0035 sec/batch\n",
      "Epoch: 2/20...  Training Step: 376...  Training loss: 2.1315...  3.7290 sec/batch\n",
      "Epoch: 2/20...  Training Step: 377...  Training loss: 2.1197...  3.8599 sec/batch\n",
      "Epoch: 2/20...  Training Step: 378...  Training loss: 2.1017...  3.8445 sec/batch\n",
      "Epoch: 2/20...  Training Step: 379...  Training loss: 2.1181...  3.7945 sec/batch\n",
      "Epoch: 2/20...  Training Step: 380...  Training loss: 2.1440...  3.7725 sec/batch\n",
      "Epoch: 2/20...  Training Step: 381...  Training loss: 2.1292...  3.9750 sec/batch\n",
      "Epoch: 2/20...  Training Step: 382...  Training loss: 2.1593...  4.3869 sec/batch\n",
      "Epoch: 2/20...  Training Step: 383...  Training loss: 2.1471...  3.9650 sec/batch\n",
      "Epoch: 2/20...  Training Step: 384...  Training loss: 2.1195...  3.9940 sec/batch\n",
      "Epoch: 2/20...  Training Step: 385...  Training loss: 2.1221...  4.1306 sec/batch\n",
      "Epoch: 2/20...  Training Step: 386...  Training loss: 2.1023...  4.1150 sec/batch\n",
      "Epoch: 2/20...  Training Step: 387...  Training loss: 2.1110...  3.9787 sec/batch\n",
      "Epoch: 2/20...  Training Step: 388...  Training loss: 2.1239...  4.0164 sec/batch\n",
      "Epoch: 2/20...  Training Step: 389...  Training loss: 2.1366...  4.1055 sec/batch\n",
      "Epoch: 2/20...  Training Step: 390...  Training loss: 2.0904...  3.9085 sec/batch\n",
      "Epoch: 2/20...  Training Step: 391...  Training loss: 2.1302...  3.9955 sec/batch\n",
      "Epoch: 2/20...  Training Step: 392...  Training loss: 2.1108...  4.0541 sec/batch\n",
      "Epoch: 2/20...  Training Step: 393...  Training loss: 2.0920...  3.9824 sec/batch\n",
      "Epoch: 2/20...  Training Step: 394...  Training loss: 2.1121...  3.8770 sec/batch\n",
      "Epoch: 2/20...  Training Step: 395...  Training loss: 2.1092...  3.8235 sec/batch\n",
      "Epoch: 2/20...  Training Step: 396...  Training loss: 2.0923...  4.0410 sec/batch\n",
      "Epoch: 3/20...  Training Step: 397...  Training loss: 2.1760...  3.9960 sec/batch\n",
      "Epoch: 3/20...  Training Step: 398...  Training loss: 2.0889...  4.0582 sec/batch\n",
      "Epoch: 3/20...  Training Step: 399...  Training loss: 2.0890...  3.7420 sec/batch\n",
      "Epoch: 3/20...  Training Step: 400...  Training loss: 2.0934...  3.7522 sec/batch\n",
      "Epoch: 3/20...  Training Step: 401...  Training loss: 2.0895...  3.7145 sec/batch\n",
      "Epoch: 3/20...  Training Step: 402...  Training loss: 2.0702...  4.1326 sec/batch\n",
      "Epoch: 3/20...  Training Step: 403...  Training loss: 2.1031...  3.8060 sec/batch\n",
      "Epoch: 3/20...  Training Step: 404...  Training loss: 2.0934...  3.9595 sec/batch\n",
      "Epoch: 3/20...  Training Step: 405...  Training loss: 2.1223...  4.0560 sec/batch\n",
      "Epoch: 3/20...  Training Step: 406...  Training loss: 2.0906...  4.0300 sec/batch\n",
      "Epoch: 3/20...  Training Step: 407...  Training loss: 2.0768...  3.8800 sec/batch\n",
      "Epoch: 3/20...  Training Step: 408...  Training loss: 2.0717...  4.0525 sec/batch\n",
      "Epoch: 3/20...  Training Step: 409...  Training loss: 2.0951...  4.2200 sec/batch\n",
      "Epoch: 3/20...  Training Step: 410...  Training loss: 2.1267...  4.2618 sec/batch\n",
      "Epoch: 3/20...  Training Step: 411...  Training loss: 2.0883...  3.9676 sec/batch\n",
      "Epoch: 3/20...  Training Step: 412...  Training loss: 2.0731...  4.2190 sec/batch\n",
      "Epoch: 3/20...  Training Step: 413...  Training loss: 2.0750...  3.9066 sec/batch\n",
      "Epoch: 3/20...  Training Step: 414...  Training loss: 2.1253...  3.7830 sec/batch\n",
      "Epoch: 3/20...  Training Step: 415...  Training loss: 2.0832...  3.7265 sec/batch\n",
      "Epoch: 3/20...  Training Step: 416...  Training loss: 2.0837...  3.8980 sec/batch\n",
      "Epoch: 3/20...  Training Step: 417...  Training loss: 2.0857...  3.9568 sec/batch\n",
      "Epoch: 3/20...  Training Step: 418...  Training loss: 2.1351...  4.2055 sec/batch\n",
      "Epoch: 3/20...  Training Step: 419...  Training loss: 2.0870...  3.9899 sec/batch\n",
      "Epoch: 3/20...  Training Step: 420...  Training loss: 2.0755...  3.9705 sec/batch\n",
      "Epoch: 3/20...  Training Step: 421...  Training loss: 2.0721...  4.0790 sec/batch\n",
      "Epoch: 3/20...  Training Step: 422...  Training loss: 2.0580...  3.8980 sec/batch\n",
      "Epoch: 3/20...  Training Step: 423...  Training loss: 2.0583...  3.7995 sec/batch\n",
      "Epoch: 3/20...  Training Step: 424...  Training loss: 2.0733...  3.9800 sec/batch\n",
      "Epoch: 3/20...  Training Step: 425...  Training loss: 2.0913...  3.8739 sec/batch\n",
      "Epoch: 3/20...  Training Step: 426...  Training loss: 2.0790...  3.8759 sec/batch\n",
      "Epoch: 3/20...  Training Step: 427...  Training loss: 2.0721...  3.8090 sec/batch\n",
      "Epoch: 3/20...  Training Step: 428...  Training loss: 2.0499...  3.8370 sec/batch\n",
      "Epoch: 3/20...  Training Step: 429...  Training loss: 2.0620...  3.8457 sec/batch\n",
      "Epoch: 3/20...  Training Step: 430...  Training loss: 2.0986...  4.1230 sec/batch\n",
      "Epoch: 3/20...  Training Step: 431...  Training loss: 2.0522...  4.0625 sec/batch\n",
      "Epoch: 3/20...  Training Step: 432...  Training loss: 2.0650...  4.1496 sec/batch\n",
      "Epoch: 3/20...  Training Step: 433...  Training loss: 2.0615...  3.9594 sec/batch\n",
      "Epoch: 3/20...  Training Step: 434...  Training loss: 2.0173...  3.8340 sec/batch\n",
      "Epoch: 3/20...  Training Step: 435...  Training loss: 2.0140...  3.7694 sec/batch\n",
      "Epoch: 3/20...  Training Step: 436...  Training loss: 2.0208...  3.9160 sec/batch\n",
      "Epoch: 3/20...  Training Step: 437...  Training loss: 2.0373...  4.0645 sec/batch\n",
      "Epoch: 3/20...  Training Step: 438...  Training loss: 2.0612...  3.9835 sec/batch\n",
      "Epoch: 3/20...  Training Step: 439...  Training loss: 2.0322...  3.9385 sec/batch\n",
      "Epoch: 3/20...  Training Step: 440...  Training loss: 2.0342...  3.9465 sec/batch\n",
      "Epoch: 3/20...  Training Step: 441...  Training loss: 2.0593...  3.9945 sec/batch\n",
      "Epoch: 3/20...  Training Step: 442...  Training loss: 1.9901...  3.9465 sec/batch\n",
      "Epoch: 3/20...  Training Step: 443...  Training loss: 2.0505...  4.2530 sec/batch\n",
      "Epoch: 3/20...  Training Step: 444...  Training loss: 2.0266...  4.1667 sec/batch\n",
      "Epoch: 3/20...  Training Step: 445...  Training loss: 2.0328...  4.0805 sec/batch\n",
      "Epoch: 3/20...  Training Step: 446...  Training loss: 2.0756...  3.9106 sec/batch\n",
      "Epoch: 3/20...  Training Step: 447...  Training loss: 2.0054...  4.2138 sec/batch\n",
      "Epoch: 3/20...  Training Step: 448...  Training loss: 2.0807...  4.0759 sec/batch\n",
      "Epoch: 3/20...  Training Step: 449...  Training loss: 2.0306...  3.7915 sec/batch\n",
      "Epoch: 3/20...  Training Step: 450...  Training loss: 2.0217...  4.0893 sec/batch\n",
      "Epoch: 3/20...  Training Step: 451...  Training loss: 2.0238...  3.7970 sec/batch\n",
      "Epoch: 3/20...  Training Step: 452...  Training loss: 2.0361...  3.8110 sec/batch\n",
      "Epoch: 3/20...  Training Step: 453...  Training loss: 2.0381...  3.7665 sec/batch\n",
      "Epoch: 3/20...  Training Step: 454...  Training loss: 2.0259...  3.9295 sec/batch\n",
      "Epoch: 3/20...  Training Step: 455...  Training loss: 2.0130...  4.1417 sec/batch\n",
      "Epoch: 3/20...  Training Step: 456...  Training loss: 2.0620...  4.0185 sec/batch\n",
      "Epoch: 3/20...  Training Step: 457...  Training loss: 2.0287...  3.9421 sec/batch\n",
      "Epoch: 3/20...  Training Step: 458...  Training loss: 2.0550...  3.9156 sec/batch\n",
      "Epoch: 3/20...  Training Step: 459...  Training loss: 2.0514...  3.9541 sec/batch\n",
      "Epoch: 3/20...  Training Step: 460...  Training loss: 2.0392...  3.7715 sec/batch\n",
      "Epoch: 3/20...  Training Step: 461...  Training loss: 2.0089...  3.7965 sec/batch\n",
      "Epoch: 3/20...  Training Step: 462...  Training loss: 2.0459...  4.0855 sec/batch\n",
      "Epoch: 3/20...  Training Step: 463...  Training loss: 2.0585...  4.1924 sec/batch\n",
      "Epoch: 3/20...  Training Step: 464...  Training loss: 2.0067...  4.2064 sec/batch\n",
      "Epoch: 3/20...  Training Step: 465...  Training loss: 2.0118...  4.0655 sec/batch\n",
      "Epoch: 3/20...  Training Step: 466...  Training loss: 2.0183...  3.9875 sec/batch\n",
      "Epoch: 3/20...  Training Step: 467...  Training loss: 2.0554...  3.7955 sec/batch\n",
      "Epoch: 3/20...  Training Step: 468...  Training loss: 2.0359...  4.0190 sec/batch\n",
      "Epoch: 3/20...  Training Step: 469...  Training loss: 2.0320...  4.3397 sec/batch\n",
      "Epoch: 3/20...  Training Step: 470...  Training loss: 2.0051...  4.3090 sec/batch\n",
      "Epoch: 3/20...  Training Step: 471...  Training loss: 2.0039...  3.8354 sec/batch\n",
      "Epoch: 3/20...  Training Step: 472...  Training loss: 2.0478...  3.6745 sec/batch\n",
      "Epoch: 3/20...  Training Step: 473...  Training loss: 2.0093...  3.8124 sec/batch\n",
      "Epoch: 3/20...  Training Step: 474...  Training loss: 2.0259...  3.8035 sec/batch\n",
      "Epoch: 3/20...  Training Step: 475...  Training loss: 1.9803...  3.8015 sec/batch\n",
      "Epoch: 3/20...  Training Step: 476...  Training loss: 2.0108...  3.9155 sec/batch\n",
      "Epoch: 3/20...  Training Step: 477...  Training loss: 1.9714...  3.8670 sec/batch\n",
      "Epoch: 3/20...  Training Step: 478...  Training loss: 2.0246...  3.7170 sec/batch\n",
      "Epoch: 3/20...  Training Step: 479...  Training loss: 1.9653...  3.7405 sec/batch\n",
      "Epoch: 3/20...  Training Step: 480...  Training loss: 1.9928...  3.8952 sec/batch\n",
      "Epoch: 3/20...  Training Step: 481...  Training loss: 1.9700...  4.2462 sec/batch\n",
      "Epoch: 3/20...  Training Step: 482...  Training loss: 1.9836...  4.0715 sec/batch\n",
      "Epoch: 3/20...  Training Step: 483...  Training loss: 1.9951...  3.8696 sec/batch\n",
      "Epoch: 3/20...  Training Step: 484...  Training loss: 1.9830...  3.9040 sec/batch\n",
      "Epoch: 3/20...  Training Step: 485...  Training loss: 1.9554...  3.7210 sec/batch\n",
      "Epoch: 3/20...  Training Step: 486...  Training loss: 2.0068...  3.8100 sec/batch\n",
      "Epoch: 3/20...  Training Step: 487...  Training loss: 1.9739...  4.2782 sec/batch\n",
      "Epoch: 3/20...  Training Step: 488...  Training loss: 1.9933...  4.0934 sec/batch\n",
      "Epoch: 3/20...  Training Step: 489...  Training loss: 1.9566...  3.8780 sec/batch\n",
      "Epoch: 3/20...  Training Step: 490...  Training loss: 1.9705...  4.0710 sec/batch\n",
      "Epoch: 3/20...  Training Step: 491...  Training loss: 1.9688...  4.0450 sec/batch\n",
      "Epoch: 3/20...  Training Step: 492...  Training loss: 1.9916...  4.2196 sec/batch\n",
      "Epoch: 3/20...  Training Step: 493...  Training loss: 1.9762...  4.1751 sec/batch\n",
      "Epoch: 3/20...  Training Step: 494...  Training loss: 1.9700...  4.0720 sec/batch\n",
      "Epoch: 3/20...  Training Step: 495...  Training loss: 1.9659...  3.8565 sec/batch\n",
      "Epoch: 3/20...  Training Step: 496...  Training loss: 1.9390...  4.0305 sec/batch\n",
      "Epoch: 3/20...  Training Step: 497...  Training loss: 1.9845...  3.8630 sec/batch\n",
      "Epoch: 3/20...  Training Step: 498...  Training loss: 1.9802...  4.0995 sec/batch\n",
      "Epoch: 3/20...  Training Step: 499...  Training loss: 1.9597...  4.2570 sec/batch\n",
      "Epoch: 3/20...  Training Step: 500...  Training loss: 1.9612...  3.8105 sec/batch\n",
      "Epoch: 3/20...  Training Step: 501...  Training loss: 1.9637...  3.8312 sec/batch\n",
      "Epoch: 3/20...  Training Step: 502...  Training loss: 1.9704...  3.8301 sec/batch\n",
      "Epoch: 3/20...  Training Step: 503...  Training loss: 1.9746...  3.7675 sec/batch\n",
      "Epoch: 3/20...  Training Step: 504...  Training loss: 1.9772...  3.6605 sec/batch\n",
      "Epoch: 3/20...  Training Step: 505...  Training loss: 1.9891...  3.9556 sec/batch\n",
      "Epoch: 3/20...  Training Step: 506...  Training loss: 1.9821...  4.1190 sec/batch\n",
      "Epoch: 3/20...  Training Step: 507...  Training loss: 1.9703...  3.7195 sec/batch\n",
      "Epoch: 3/20...  Training Step: 508...  Training loss: 1.9614...  4.1085 sec/batch\n",
      "Epoch: 3/20...  Training Step: 509...  Training loss: 1.9595...  4.1354 sec/batch\n",
      "Epoch: 3/20...  Training Step: 510...  Training loss: 1.9549...  4.2160 sec/batch\n",
      "Epoch: 3/20...  Training Step: 511...  Training loss: 1.9529...  3.9025 sec/batch\n",
      "Epoch: 3/20...  Training Step: 512...  Training loss: 1.9205...  3.7225 sec/batch\n",
      "Epoch: 3/20...  Training Step: 513...  Training loss: 1.9636...  3.8210 sec/batch\n",
      "Epoch: 3/20...  Training Step: 514...  Training loss: 1.9524...  4.0116 sec/batch\n",
      "Epoch: 3/20...  Training Step: 515...  Training loss: 1.9837...  3.8115 sec/batch\n",
      "Epoch: 3/20...  Training Step: 516...  Training loss: 1.9747...  3.7887 sec/batch\n",
      "Epoch: 3/20...  Training Step: 517...  Training loss: 1.9843...  3.8151 sec/batch\n",
      "Epoch: 3/20...  Training Step: 518...  Training loss: 1.9365...  4.0500 sec/batch\n",
      "Epoch: 3/20...  Training Step: 519...  Training loss: 1.9510...  4.0234 sec/batch\n",
      "Epoch: 3/20...  Training Step: 520...  Training loss: 1.9903...  3.9130 sec/batch\n",
      "Epoch: 3/20...  Training Step: 521...  Training loss: 1.9460...  3.7770 sec/batch\n",
      "Epoch: 3/20...  Training Step: 522...  Training loss: 1.9174...  3.6050 sec/batch\n",
      "Epoch: 3/20...  Training Step: 523...  Training loss: 1.9769...  3.6165 sec/batch\n",
      "Epoch: 3/20...  Training Step: 524...  Training loss: 1.9710...  3.6240 sec/batch\n",
      "Epoch: 3/20...  Training Step: 525...  Training loss: 1.9594...  3.6125 sec/batch\n",
      "Epoch: 3/20...  Training Step: 526...  Training loss: 1.9589...  3.7990 sec/batch\n",
      "Epoch: 3/20...  Training Step: 527...  Training loss: 1.9292...  3.7035 sec/batch\n",
      "Epoch: 3/20...  Training Step: 528...  Training loss: 1.9343...  3.7785 sec/batch\n",
      "Epoch: 3/20...  Training Step: 529...  Training loss: 1.9679...  3.6465 sec/batch\n",
      "Epoch: 3/20...  Training Step: 530...  Training loss: 1.9602...  3.6775 sec/batch\n",
      "Epoch: 3/20...  Training Step: 531...  Training loss: 1.9494...  3.7952 sec/batch\n",
      "Epoch: 3/20...  Training Step: 532...  Training loss: 1.9593...  3.9130 sec/batch\n",
      "Epoch: 3/20...  Training Step: 533...  Training loss: 1.9649...  3.7495 sec/batch\n",
      "Epoch: 3/20...  Training Step: 534...  Training loss: 1.9506...  4.0525 sec/batch\n",
      "Epoch: 3/20...  Training Step: 535...  Training loss: 1.9862...  3.9269 sec/batch\n",
      "Epoch: 3/20...  Training Step: 536...  Training loss: 1.9415...  3.8285 sec/batch\n",
      "Epoch: 3/20...  Training Step: 537...  Training loss: 1.9777...  3.8825 sec/batch\n",
      "Epoch: 3/20...  Training Step: 538...  Training loss: 1.9430...  3.8505 sec/batch\n",
      "Epoch: 3/20...  Training Step: 539...  Training loss: 1.9458...  4.0091 sec/batch\n",
      "Epoch: 3/20...  Training Step: 540...  Training loss: 1.9457...  4.0991 sec/batch\n",
      "Epoch: 3/20...  Training Step: 541...  Training loss: 1.9260...  3.8982 sec/batch\n",
      "Epoch: 3/20...  Training Step: 542...  Training loss: 1.9581...  3.8225 sec/batch\n",
      "Epoch: 3/20...  Training Step: 543...  Training loss: 1.9633...  4.1515 sec/batch\n",
      "Epoch: 3/20...  Training Step: 544...  Training loss: 1.9714...  3.9338 sec/batch\n",
      "Epoch: 3/20...  Training Step: 545...  Training loss: 1.9492...  4.0557 sec/batch\n",
      "Epoch: 3/20...  Training Step: 546...  Training loss: 1.9263...  4.3959 sec/batch\n",
      "Epoch: 3/20...  Training Step: 547...  Training loss: 1.9350...  4.1704 sec/batch\n",
      "Epoch: 3/20...  Training Step: 548...  Training loss: 1.9656...  3.9829 sec/batch\n",
      "Epoch: 3/20...  Training Step: 549...  Training loss: 1.9445...  3.8925 sec/batch\n",
      "Epoch: 3/20...  Training Step: 550...  Training loss: 1.9476...  3.8745 sec/batch\n",
      "Epoch: 3/20...  Training Step: 551...  Training loss: 1.9224...  3.8125 sec/batch\n",
      "Epoch: 3/20...  Training Step: 552...  Training loss: 1.9318...  3.8095 sec/batch\n",
      "Epoch: 3/20...  Training Step: 553...  Training loss: 1.9387...  3.7801 sec/batch\n",
      "Epoch: 3/20...  Training Step: 554...  Training loss: 1.9276...  3.7695 sec/batch\n",
      "Epoch: 3/20...  Training Step: 555...  Training loss: 1.8909...  3.8090 sec/batch\n",
      "Epoch: 3/20...  Training Step: 556...  Training loss: 1.9683...  3.7955 sec/batch\n",
      "Epoch: 3/20...  Training Step: 557...  Training loss: 1.9493...  3.9760 sec/batch\n",
      "Epoch: 3/20...  Training Step: 558...  Training loss: 1.9197...  3.9388 sec/batch\n",
      "Epoch: 3/20...  Training Step: 559...  Training loss: 1.9409...  3.8225 sec/batch\n",
      "Epoch: 3/20...  Training Step: 560...  Training loss: 1.9382...  3.8313 sec/batch\n",
      "Epoch: 3/20...  Training Step: 561...  Training loss: 1.9165...  3.8230 sec/batch\n",
      "Epoch: 3/20...  Training Step: 562...  Training loss: 1.9158...  3.7920 sec/batch\n",
      "Epoch: 3/20...  Training Step: 563...  Training loss: 1.9502...  3.9667 sec/batch\n",
      "Epoch: 3/20...  Training Step: 564...  Training loss: 1.9660...  3.8795 sec/batch\n",
      "Epoch: 3/20...  Training Step: 565...  Training loss: 1.9084...  3.9520 sec/batch\n",
      "Epoch: 3/20...  Training Step: 566...  Training loss: 1.9199...  3.8806 sec/batch\n",
      "Epoch: 3/20...  Training Step: 567...  Training loss: 1.9076...  3.8725 sec/batch\n",
      "Epoch: 3/20...  Training Step: 568...  Training loss: 1.8955...  3.8170 sec/batch\n",
      "Epoch: 3/20...  Training Step: 569...  Training loss: 1.9352...  3.7865 sec/batch\n",
      "Epoch: 3/20...  Training Step: 570...  Training loss: 1.9352...  3.8150 sec/batch\n",
      "Epoch: 3/20...  Training Step: 571...  Training loss: 1.9275...  3.8365 sec/batch\n",
      "Epoch: 3/20...  Training Step: 572...  Training loss: 1.9108...  3.8830 sec/batch\n",
      "Epoch: 3/20...  Training Step: 573...  Training loss: 1.9005...  3.7930 sec/batch\n",
      "Epoch: 3/20...  Training Step: 574...  Training loss: 1.9336...  3.8247 sec/batch\n",
      "Epoch: 3/20...  Training Step: 575...  Training loss: 1.8818...  3.8425 sec/batch\n",
      "Epoch: 3/20...  Training Step: 576...  Training loss: 1.8718...  3.8148 sec/batch\n",
      "Epoch: 3/20...  Training Step: 577...  Training loss: 1.8821...  3.7900 sec/batch\n",
      "Epoch: 3/20...  Training Step: 578...  Training loss: 1.9053...  3.8335 sec/batch\n",
      "Epoch: 3/20...  Training Step: 579...  Training loss: 1.9075...  3.8845 sec/batch\n",
      "Epoch: 3/20...  Training Step: 580...  Training loss: 1.9238...  3.7895 sec/batch\n",
      "Epoch: 3/20...  Training Step: 581...  Training loss: 1.9100...  3.7900 sec/batch\n",
      "Epoch: 3/20...  Training Step: 582...  Training loss: 1.8996...  3.8020 sec/batch\n",
      "Epoch: 3/20...  Training Step: 583...  Training loss: 1.9109...  3.7915 sec/batch\n",
      "Epoch: 3/20...  Training Step: 584...  Training loss: 1.8818...  3.7835 sec/batch\n",
      "Epoch: 3/20...  Training Step: 585...  Training loss: 1.8919...  3.7965 sec/batch\n",
      "Epoch: 3/20...  Training Step: 586...  Training loss: 1.9083...  3.8675 sec/batch\n",
      "Epoch: 3/20...  Training Step: 587...  Training loss: 1.9224...  3.8940 sec/batch\n",
      "Epoch: 3/20...  Training Step: 588...  Training loss: 1.8695...  3.9100 sec/batch\n",
      "Epoch: 3/20...  Training Step: 589...  Training loss: 1.9100...  3.7250 sec/batch\n",
      "Epoch: 3/20...  Training Step: 590...  Training loss: 1.8851...  3.7831 sec/batch\n",
      "Epoch: 3/20...  Training Step: 591...  Training loss: 1.8654...  3.7610 sec/batch\n",
      "Epoch: 3/20...  Training Step: 592...  Training loss: 1.8962...  3.7895 sec/batch\n",
      "Epoch: 3/20...  Training Step: 593...  Training loss: 1.8948...  3.7440 sec/batch\n",
      "Epoch: 3/20...  Training Step: 594...  Training loss: 1.8798...  3.8427 sec/batch\n",
      "Epoch: 4/20...  Training Step: 595...  Training loss: 1.9774...  3.6205 sec/batch\n",
      "Epoch: 4/20...  Training Step: 596...  Training loss: 1.8737...  3.7200 sec/batch\n",
      "Epoch: 4/20...  Training Step: 597...  Training loss: 1.8764...  3.9502 sec/batch\n",
      "Epoch: 4/20...  Training Step: 598...  Training loss: 1.8868...  4.0755 sec/batch\n",
      "Epoch: 4/20...  Training Step: 599...  Training loss: 1.8868...  3.9635 sec/batch\n",
      "Epoch: 4/20...  Training Step: 600...  Training loss: 1.8477...  4.0272 sec/batch\n",
      "Epoch: 4/20...  Training Step: 601...  Training loss: 1.8854...  3.8921 sec/batch\n",
      "Epoch: 4/20...  Training Step: 602...  Training loss: 1.8823...  3.9715 sec/batch\n",
      "Epoch: 4/20...  Training Step: 603...  Training loss: 1.9135...  4.1041 sec/batch\n",
      "Epoch: 4/20...  Training Step: 604...  Training loss: 1.8881...  4.0153 sec/batch\n",
      "Epoch: 4/20...  Training Step: 605...  Training loss: 1.8555...  3.6780 sec/batch\n",
      "Epoch: 4/20...  Training Step: 606...  Training loss: 1.8608...  3.6275 sec/batch\n",
      "Epoch: 4/20...  Training Step: 607...  Training loss: 1.8766...  3.6010 sec/batch\n",
      "Epoch: 4/20...  Training Step: 608...  Training loss: 1.9054...  3.6855 sec/batch\n",
      "Epoch: 4/20...  Training Step: 609...  Training loss: 1.8687...  3.7145 sec/batch\n",
      "Epoch: 4/20...  Training Step: 610...  Training loss: 1.8625...  3.6150 sec/batch\n",
      "Epoch: 4/20...  Training Step: 611...  Training loss: 1.8744...  3.5965 sec/batch\n",
      "Epoch: 4/20...  Training Step: 612...  Training loss: 1.9050...  3.6099 sec/batch\n",
      "Epoch: 4/20...  Training Step: 613...  Training loss: 1.8864...  3.6703 sec/batch\n",
      "Epoch: 4/20...  Training Step: 614...  Training loss: 1.8802...  3.6246 sec/batch\n",
      "Epoch: 4/20...  Training Step: 615...  Training loss: 1.8747...  3.6840 sec/batch\n",
      "Epoch: 4/20...  Training Step: 616...  Training loss: 1.9199...  4.0950 sec/batch\n",
      "Epoch: 4/20...  Training Step: 617...  Training loss: 1.8695...  3.7905 sec/batch\n",
      "Epoch: 4/20...  Training Step: 618...  Training loss: 1.8786...  3.6460 sec/batch\n",
      "Epoch: 4/20...  Training Step: 619...  Training loss: 1.8758...  3.8033 sec/batch\n",
      "Epoch: 4/20...  Training Step: 620...  Training loss: 1.8486...  3.8830 sec/batch\n",
      "Epoch: 4/20...  Training Step: 621...  Training loss: 1.8516...  3.6875 sec/batch\n",
      "Epoch: 4/20...  Training Step: 622...  Training loss: 1.8832...  3.7615 sec/batch\n"
     ]
    },
    {
     "ename": "KeyboardInterrupt",
     "evalue": "",
     "output_type": "error",
     "traceback": [
      "\u001b[1;31m---------------------------------------------------------------------------\u001b[0m",
      "\u001b[1;31mKeyboardInterrupt\u001b[0m                         Traceback (most recent call last)",
      "\u001b[1;32m<ipython-input-16-ad76a1595262>\u001b[0m in \u001b[0;36m<module>\u001b[1;34m()\u001b[0m\n\u001b[0;32m     28\u001b[0m                                                  \u001b[0mmodel\u001b[0m\u001b[1;33m.\u001b[0m\u001b[0mfinal_state\u001b[0m\u001b[1;33m,\u001b[0m\u001b[1;33m\u001b[0m\u001b[0m\n\u001b[0;32m     29\u001b[0m                                                  model.optimizer], \n\u001b[1;32m---> 30\u001b[1;33m                                                  feed_dict=feed)\n\u001b[0m\u001b[0;32m     31\u001b[0m \u001b[1;33m\u001b[0m\u001b[0m\n\u001b[0;32m     32\u001b[0m             \u001b[0mend\u001b[0m \u001b[1;33m=\u001b[0m \u001b[0mtime\u001b[0m\u001b[1;33m.\u001b[0m\u001b[0mtime\u001b[0m\u001b[1;33m(\u001b[0m\u001b[1;33m)\u001b[0m\u001b[1;33m\u001b[0m\u001b[0m\n",
      "\u001b[1;32mc:\\users\\mbeie\\appdata\\local\\continuum\\miniconda3\\envs\\intro-to-rnns\\lib\\site-packages\\tensorflow\\python\\client\\session.py\u001b[0m in \u001b[0;36mrun\u001b[1;34m(self, fetches, feed_dict, options, run_metadata)\u001b[0m\n\u001b[0;32m    887\u001b[0m     \u001b[1;32mtry\u001b[0m\u001b[1;33m:\u001b[0m\u001b[1;33m\u001b[0m\u001b[0m\n\u001b[0;32m    888\u001b[0m       result = self._run(None, fetches, feed_dict, options_ptr,\n\u001b[1;32m--> 889\u001b[1;33m                          run_metadata_ptr)\n\u001b[0m\u001b[0;32m    890\u001b[0m       \u001b[1;32mif\u001b[0m \u001b[0mrun_metadata\u001b[0m\u001b[1;33m:\u001b[0m\u001b[1;33m\u001b[0m\u001b[0m\n\u001b[0;32m    891\u001b[0m         \u001b[0mproto_data\u001b[0m \u001b[1;33m=\u001b[0m \u001b[0mtf_session\u001b[0m\u001b[1;33m.\u001b[0m\u001b[0mTF_GetBuffer\u001b[0m\u001b[1;33m(\u001b[0m\u001b[0mrun_metadata_ptr\u001b[0m\u001b[1;33m)\u001b[0m\u001b[1;33m\u001b[0m\u001b[0m\n",
      "\u001b[1;32mc:\\users\\mbeie\\appdata\\local\\continuum\\miniconda3\\envs\\intro-to-rnns\\lib\\site-packages\\tensorflow\\python\\client\\session.py\u001b[0m in \u001b[0;36m_run\u001b[1;34m(self, handle, fetches, feed_dict, options, run_metadata)\u001b[0m\n\u001b[0;32m   1118\u001b[0m     \u001b[1;32mif\u001b[0m \u001b[0mfinal_fetches\u001b[0m \u001b[1;32mor\u001b[0m \u001b[0mfinal_targets\u001b[0m \u001b[1;32mor\u001b[0m \u001b[1;33m(\u001b[0m\u001b[0mhandle\u001b[0m \u001b[1;32mand\u001b[0m \u001b[0mfeed_dict_tensor\u001b[0m\u001b[1;33m)\u001b[0m\u001b[1;33m:\u001b[0m\u001b[1;33m\u001b[0m\u001b[0m\n\u001b[0;32m   1119\u001b[0m       results = self._do_run(handle, final_targets, final_fetches,\n\u001b[1;32m-> 1120\u001b[1;33m                              feed_dict_tensor, options, run_metadata)\n\u001b[0m\u001b[0;32m   1121\u001b[0m     \u001b[1;32melse\u001b[0m\u001b[1;33m:\u001b[0m\u001b[1;33m\u001b[0m\u001b[0m\n\u001b[0;32m   1122\u001b[0m       \u001b[0mresults\u001b[0m \u001b[1;33m=\u001b[0m \u001b[1;33m[\u001b[0m\u001b[1;33m]\u001b[0m\u001b[1;33m\u001b[0m\u001b[0m\n",
      "\u001b[1;32mc:\\users\\mbeie\\appdata\\local\\continuum\\miniconda3\\envs\\intro-to-rnns\\lib\\site-packages\\tensorflow\\python\\client\\session.py\u001b[0m in \u001b[0;36m_do_run\u001b[1;34m(self, handle, target_list, fetch_list, feed_dict, options, run_metadata)\u001b[0m\n\u001b[0;32m   1315\u001b[0m     \u001b[1;32mif\u001b[0m \u001b[0mhandle\u001b[0m \u001b[1;32mis\u001b[0m \u001b[1;32mNone\u001b[0m\u001b[1;33m:\u001b[0m\u001b[1;33m\u001b[0m\u001b[0m\n\u001b[0;32m   1316\u001b[0m       return self._do_call(_run_fn, self._session, feeds, fetches, targets,\n\u001b[1;32m-> 1317\u001b[1;33m                            options, run_metadata)\n\u001b[0m\u001b[0;32m   1318\u001b[0m     \u001b[1;32melse\u001b[0m\u001b[1;33m:\u001b[0m\u001b[1;33m\u001b[0m\u001b[0m\n\u001b[0;32m   1319\u001b[0m       \u001b[1;32mreturn\u001b[0m \u001b[0mself\u001b[0m\u001b[1;33m.\u001b[0m\u001b[0m_do_call\u001b[0m\u001b[1;33m(\u001b[0m\u001b[0m_prun_fn\u001b[0m\u001b[1;33m,\u001b[0m \u001b[0mself\u001b[0m\u001b[1;33m.\u001b[0m\u001b[0m_session\u001b[0m\u001b[1;33m,\u001b[0m \u001b[0mhandle\u001b[0m\u001b[1;33m,\u001b[0m \u001b[0mfeeds\u001b[0m\u001b[1;33m,\u001b[0m \u001b[0mfetches\u001b[0m\u001b[1;33m)\u001b[0m\u001b[1;33m\u001b[0m\u001b[0m\n",
      "\u001b[1;32mc:\\users\\mbeie\\appdata\\local\\continuum\\miniconda3\\envs\\intro-to-rnns\\lib\\site-packages\\tensorflow\\python\\client\\session.py\u001b[0m in \u001b[0;36m_do_call\u001b[1;34m(self, fn, *args)\u001b[0m\n\u001b[0;32m   1321\u001b[0m   \u001b[1;32mdef\u001b[0m \u001b[0m_do_call\u001b[0m\u001b[1;33m(\u001b[0m\u001b[0mself\u001b[0m\u001b[1;33m,\u001b[0m \u001b[0mfn\u001b[0m\u001b[1;33m,\u001b[0m \u001b[1;33m*\u001b[0m\u001b[0margs\u001b[0m\u001b[1;33m)\u001b[0m\u001b[1;33m:\u001b[0m\u001b[1;33m\u001b[0m\u001b[0m\n\u001b[0;32m   1322\u001b[0m     \u001b[1;32mtry\u001b[0m\u001b[1;33m:\u001b[0m\u001b[1;33m\u001b[0m\u001b[0m\n\u001b[1;32m-> 1323\u001b[1;33m       \u001b[1;32mreturn\u001b[0m \u001b[0mfn\u001b[0m\u001b[1;33m(\u001b[0m\u001b[1;33m*\u001b[0m\u001b[0margs\u001b[0m\u001b[1;33m)\u001b[0m\u001b[1;33m\u001b[0m\u001b[0m\n\u001b[0m\u001b[0;32m   1324\u001b[0m     \u001b[1;32mexcept\u001b[0m \u001b[0merrors\u001b[0m\u001b[1;33m.\u001b[0m\u001b[0mOpError\u001b[0m \u001b[1;32mas\u001b[0m \u001b[0me\u001b[0m\u001b[1;33m:\u001b[0m\u001b[1;33m\u001b[0m\u001b[0m\n\u001b[0;32m   1325\u001b[0m       \u001b[0mmessage\u001b[0m \u001b[1;33m=\u001b[0m \u001b[0mcompat\u001b[0m\u001b[1;33m.\u001b[0m\u001b[0mas_text\u001b[0m\u001b[1;33m(\u001b[0m\u001b[0me\u001b[0m\u001b[1;33m.\u001b[0m\u001b[0mmessage\u001b[0m\u001b[1;33m)\u001b[0m\u001b[1;33m\u001b[0m\u001b[0m\n",
      "\u001b[1;32mc:\\users\\mbeie\\appdata\\local\\continuum\\miniconda3\\envs\\intro-to-rnns\\lib\\site-packages\\tensorflow\\python\\client\\session.py\u001b[0m in \u001b[0;36m_run_fn\u001b[1;34m(session, feed_dict, fetch_list, target_list, options, run_metadata)\u001b[0m\n\u001b[0;32m   1300\u001b[0m           return tf_session.TF_Run(session, options,\n\u001b[0;32m   1301\u001b[0m                                    \u001b[0mfeed_dict\u001b[0m\u001b[1;33m,\u001b[0m \u001b[0mfetch_list\u001b[0m\u001b[1;33m,\u001b[0m \u001b[0mtarget_list\u001b[0m\u001b[1;33m,\u001b[0m\u001b[1;33m\u001b[0m\u001b[0m\n\u001b[1;32m-> 1302\u001b[1;33m                                    status, run_metadata)\n\u001b[0m\u001b[0;32m   1303\u001b[0m \u001b[1;33m\u001b[0m\u001b[0m\n\u001b[0;32m   1304\u001b[0m     \u001b[1;32mdef\u001b[0m \u001b[0m_prun_fn\u001b[0m\u001b[1;33m(\u001b[0m\u001b[0msession\u001b[0m\u001b[1;33m,\u001b[0m \u001b[0mhandle\u001b[0m\u001b[1;33m,\u001b[0m \u001b[0mfeed_dict\u001b[0m\u001b[1;33m,\u001b[0m \u001b[0mfetch_list\u001b[0m\u001b[1;33m)\u001b[0m\u001b[1;33m:\u001b[0m\u001b[1;33m\u001b[0m\u001b[0m\n",
      "\u001b[1;31mKeyboardInterrupt\u001b[0m: "
     ]
    }
   ],
   "source": [
    "epochs = 20\n",
    "# Print losses every N interations\n",
    "print_every_n = 50\n",
    "\n",
    "# Save every N iterations\n",
    "save_every_n = 200\n",
    "\n",
    "model = CharRNN(len(vocab), batch_size=batch_size, num_steps=num_steps,\n",
    "                lstm_size=lstm_size, num_layers=num_layers, \n",
    "                learning_rate=learning_rate)\n",
    "\n",
    "saver = tf.train.Saver(max_to_keep=100)\n",
    "with tf.Session() as sess:\n",
    "    sess.run(tf.global_variables_initializer())\n",
    "    \n",
    "    # Use the line below to load a checkpoint and resume training\n",
    "    #saver.restore(sess, 'checkpoints/______.ckpt')\n",
    "    counter = 0\n",
    "    for e in range(epochs):\n",
    "        # Train network\n",
    "        new_state = sess.run(model.initial_state)\n",
    "        loss = 0\n",
    "        for x, y in get_batches(encoded, batch_size, num_steps):\n",
    "            counter += 1\n",
    "            start = time.time()\n",
    "            feed = {model.inputs: x,\n",
    "                    model.targets: y,\n",
    "                    model.keep_prob: keep_prob,\n",
    "                    model.initial_state: new_state}\n",
    "            batch_loss, new_state, _ = sess.run([model.loss, \n",
    "                                                 model.final_state, \n",
    "                                                 model.optimizer], \n",
    "                                                 feed_dict=feed)\n",
    "            if (counter % print_every_n == 0):\n",
    "                end = time.time()\n",
    "                print('Epoch: {}/{}... '.format(e+1, epochs),\n",
    "                      'Training Step: {}... '.format(counter),\n",
    "                      'Training loss: {:.4f}... '.format(batch_loss),\n",
    "                      '{:.4f} sec/batch'.format((end-start)))\n",
    "        \n",
    "            if (counter % save_every_n == 0):\n",
    "                saver.save(sess, \"checkpoints/i{}_l{}.ckpt\".format(counter, lstm_size))\n",
    "    \n",
    "    saver.save(sess, \"checkpoints/i{}_l{}.ckpt\".format(counter, lstm_size))"
   ]
  },
  {
   "cell_type": "markdown",
   "metadata": {
    "deletable": true,
    "editable": true
   },
   "source": [
    "#### Saved checkpoints\n",
    "\n",
    "Read up on saving and loading checkpoints here: https://www.tensorflow.org/programmers_guide/variables"
   ]
  },
  {
   "cell_type": "code",
<<<<<<< HEAD
   "execution_count": 17,
   "metadata": {
    "collapsed": false,
    "deletable": true,
    "editable": true
   },
   "outputs": [
    {
     "data": {
      "text/plain": [
       "model_checkpoint_path: \"checkpoints\\\\i600_l512.ckpt\"\n",
       "all_model_checkpoint_paths: \"checkpoints\\\\i200_l512.ckpt\"\n",
       "all_model_checkpoint_paths: \"checkpoints\\\\i400_l512.ckpt\"\n",
       "all_model_checkpoint_paths: \"checkpoints\\\\i600_l512.ckpt\""
      ]
     },
     "execution_count": 17,
     "metadata": {},
     "output_type": "execute_result"
    }
   ],
=======
   "execution_count": null,
   "metadata": {},
   "outputs": [],
>>>>>>> upstream/master
   "source": [
    "tf.train.get_checkpoint_state('checkpoints')"
   ]
  },
  {
   "cell_type": "markdown",
   "metadata": {
    "deletable": true,
    "editable": true
   },
   "source": [
    "## Sampling\n",
    "\n",
    "Now that the network is trained, we'll can use it to generate new text. The idea is that we pass in a character, then the network will predict the next character. We can use the new one, to predict the next one. And we keep doing this to generate all new text. I also included some functionality to prime the network with some text by passing in a string and building up a state from that.\n",
    "\n",
    "The network gives us predictions for each character. To reduce noise and make things a little less random, I'm going to only choose a new character from the top N most likely characters.\n",
    "\n"
   ]
  },
  {
   "cell_type": "code",
<<<<<<< HEAD
   "execution_count": 18,
   "metadata": {
    "collapsed": true,
    "deletable": true,
    "editable": true
   },
=======
   "execution_count": null,
   "metadata": {},
>>>>>>> upstream/master
   "outputs": [],
   "source": [
    "def pick_top_n(preds, vocab_size, top_n=5):\n",
    "    p = np.squeeze(preds)\n",
    "    p[np.argsort(p)[:-top_n]] = 0\n",
    "    p = p / np.sum(p)\n",
    "    c = np.random.choice(vocab_size, 1, p=p)[0]\n",
    "    return c"
   ]
  },
  {
   "cell_type": "code",
<<<<<<< HEAD
   "execution_count": 19,
   "metadata": {
    "collapsed": true,
    "deletable": true,
    "editable": true
   },
=======
   "execution_count": null,
   "metadata": {},
>>>>>>> upstream/master
   "outputs": [],
   "source": [
    "def sample(checkpoint, n_samples, lstm_size, vocab_size, prime=\"The \"):\n",
    "    samples = [c for c in prime]\n",
    "    model = CharRNN(len(vocab), lstm_size=lstm_size, sampling=True)\n",
    "    saver = tf.train.Saver()\n",
    "    with tf.Session() as sess:\n",
    "        saver.restore(sess, checkpoint)\n",
    "        new_state = sess.run(model.initial_state)\n",
    "        for c in prime:\n",
    "            x = np.zeros((1, 1))\n",
    "            x[0,0] = vocab_to_int[c]\n",
    "            feed = {model.inputs: x,\n",
    "                    model.keep_prob: 1.,\n",
    "                    model.initial_state: new_state}\n",
    "            preds, new_state = sess.run([model.prediction, model.final_state], \n",
    "                                         feed_dict=feed)\n",
    "\n",
    "        c = pick_top_n(preds, len(vocab))\n",
    "        samples.append(int_to_vocab[c])\n",
    "\n",
    "        for i in range(n_samples):\n",
    "            x[0,0] = c\n",
    "            feed = {model.inputs: x,\n",
    "                    model.keep_prob: 1.,\n",
    "                    model.initial_state: new_state}\n",
    "            preds, new_state = sess.run([model.prediction, model.final_state], \n",
    "                                         feed_dict=feed)\n",
    "\n",
    "            c = pick_top_n(preds, len(vocab))\n",
    "            samples.append(int_to_vocab[c])\n",
    "        \n",
    "    return ''.join(samples)"
   ]
  },
  {
   "cell_type": "markdown",
   "metadata": {
    "deletable": true,
    "editable": true
   },
   "source": [
    "Here, pass in the path to a checkpoint and sample from the network."
   ]
  },
  {
   "cell_type": "code",
<<<<<<< HEAD
   "execution_count": 20,
   "metadata": {
    "collapsed": false,
    "deletable": true,
    "editable": true
   },
   "outputs": [
    {
     "data": {
      "text/plain": [
       "'checkpoints\\\\i600_l512.ckpt'"
      ]
     },
     "execution_count": 20,
     "metadata": {},
     "output_type": "execute_result"
    }
   ],
=======
   "execution_count": null,
   "metadata": {},
   "outputs": [],
>>>>>>> upstream/master
   "source": [
    "tf.train.latest_checkpoint('checkpoints')"
   ]
  },
  {
   "cell_type": "code",
<<<<<<< HEAD
   "execution_count": 21,
   "metadata": {
    "collapsed": false,
    "deletable": true,
    "editable": true
   },
   "outputs": [
    {
     "name": "stdout",
     "output_type": "stream",
     "text": [
      "INFO:tensorflow:Restoring parameters from checkpoints\\i600_l512.ckpt\n",
      "Farne aste she was, talk a thar in to house to the cound his wook at him, he the comening hes that stoughed, he wording and him a the comencing ateate this took in on his to the\n",
      "moun that he head ont has a persed his and handsent wat the crouthing and and and the\n",
      "seret to the\n",
      "histelf. Her was\n",
      "now shaters, and shat had his had his seng have her sand to the hims and head that he sere his stronged..\n",
      "\"And her wan the since with the pailion.\n",
      "\n",
      "\"The parse wound that she wes thing her som the sand astond in the with and sto dore a souter the conded the mose a might and the worded her thit his, that word, the prince to\n",
      "cempace a the\n",
      "prosist and stong in and hourd hom the\n",
      "howhed his had his to deather. That the hourd the mantent, has heald not the serplitanit of the histleass offerised to singe and stertilly. The\n",
      "sould of soment of his said, which his was said in the cronder of her\n",
      "heal nething at his soiled, to hore, and the him on the sainst, with the seaching to him, and that her was an the pensions, shand tard to\n",
      "her wond so childing wall of she sand and\n",
      "shat anow hares wanted her to\n",
      "that she would that her that anden stering a came the how all\n",
      "his and aloved her shem her and and all the histint, and were at the piritte to a peins ate he said\n",
      "have of this have a sting to\n",
      "and\n",
      "alloving hears of the\n",
      "houng of the werten, and having a musher of his heard as in hear of her atout of that sond, then the want to thilk har\n",
      "and her\n",
      "sate then whent westing that, whice ald hin shough him. The same a to that se his had to\n",
      "sard an her his with at the cone of she wan at to but to she treen as a pilting the\n",
      "houthing, with ans to that it, the hind of the\n",
      "mirt on the some that her was the sorthand to thin that at istisente,. Then her the sore to the seretens into a she was that in the had hav it the has treid\n",
      "ham her\n",
      "enessing and to the cormaned asead treing as\n",
      "to said of the cous thay. \"I'm\n",
      "that sain. I dean the shile of\n",
      "her had so sandion atenthes her at her sand\n",
      "the hassers of she\n",
      "her hars o\n"
     ]
    }
   ],
=======
   "execution_count": null,
   "metadata": {},
   "outputs": [],
>>>>>>> upstream/master
   "source": [
    "checkpoint = tf.train.latest_checkpoint('checkpoints')\n",
    "samp = sample(checkpoint, 2000, lstm_size, len(vocab), prime=\"Far\")\n",
    "print(samp)"
   ]
  },
  {
   "cell_type": "code",
<<<<<<< HEAD
   "execution_count": 22,
   "metadata": {
    "collapsed": false,
    "deletable": true,
    "editable": true
   },
   "outputs": [
    {
     "name": "stdout",
     "output_type": "stream",
     "text": [
      "INFO:tensorflow:Restoring parameters from checkpoints/i200_l512.ckpt\n",
      "Far tito\n",
      "thh tea do an tothing to she we he wand tha had the se sarer on tar theringes sad at aned hhe had who thas tore he serered, wondes an the he ad ther whed had wher\n",
      "as and wil at him and hin ho han tor saserisd werta nod weras ans tit or oot ther heat tor thes atins hh at the sithe tat has an sos ons\n",
      "ind han ser at hit he whas he ad the and on wothas hor he tis soren shithith son hom as werens he sat ood ho wom thim, ho simint or hand set oo the thathe and on win he wor he had sone sh as on he tot\n",
      "ased to to te thes.\n",
      "\n",
      "The th where she whand at on at tom on thate se wos his hang the the thase and he who he was thand..\n",
      "\"H\n",
      " had tare thas tor\n",
      "and he seste hher\n",
      "seding wher who weth thar hed atise se singe asid an he to thes ante sistind arisint thar ad, she he ther as hard, shad,, thas hard wom ho he shos sasind we he he as the tend wherind the ho sedin he he sit ot hot tha wing ong al ta tore an sad hered asd the whim whand tis tet thit ho he the shes son the thes the we th the sad an h\n"
     ]
    }
   ],
=======
   "execution_count": null,
   "metadata": {},
   "outputs": [],
>>>>>>> upstream/master
   "source": [
    "checkpoint = 'checkpoints/i200_l512.ckpt'\n",
    "samp = sample(checkpoint, 1000, lstm_size, len(vocab), prime=\"Far\")\n",
    "print(samp)"
   ]
  },
  {
   "cell_type": "code",
<<<<<<< HEAD
   "execution_count": 23,
   "metadata": {
    "collapsed": false,
    "deletable": true,
    "editable": true
   },
   "outputs": [
    {
     "name": "stdout",
     "output_type": "stream",
     "text": [
      "INFO:tensorflow:Restoring parameters from checkpoints/i600_l512.ckpt\n",
      "Farly that is sact he ser that the was\n",
      "strong over atain her a doss and and had a mand of him sand\n",
      "with ate sand, and the senting and anowered her has she was the coung the parrition, and her wish her tonder of that his hes talk the\n",
      "porttion.\n",
      "\n",
      "\"And have was the were\n",
      "seeped and he denter her too he would than he had to te her sone of the his and whish\n",
      "the poltered in the prenting he war her his thing to\n",
      "his, but a prestion thought to he herssand her\n",
      "hat wood he hended at the westers, was inst time has\n",
      "bectees, and\n",
      "to sele and to to at insensed to the priect, and and hiv to sime to serted it has so sering as his tall aster the herter of her shemeded.\n",
      "\n",
      "\"I wand not in the calrian whith his her sayd and the comnersing him thought has\n",
      "the pacinise him hilded and her wert to doon the shict and the calters, the serch and hand be ally all and the han an all stromging that\n",
      "her hid said, were the canto on a cerenary wat\n",
      "the pits of the cornted him the pistant to shantely the shild with hid anco atred\n"
     ]
    }
   ],
=======
   "execution_count": null,
   "metadata": {},
   "outputs": [],
>>>>>>> upstream/master
   "source": [
    "checkpoint = 'checkpoints/i600_l512.ckpt'\n",
    "samp = sample(checkpoint, 1000, lstm_size, len(vocab), prime=\"Far\")\n",
    "print(samp)"
   ]
  },
  {
   "cell_type": "code",
<<<<<<< HEAD
   "execution_count": 24,
   "metadata": {
    "collapsed": false,
    "deletable": true,
    "editable": true
   },
   "outputs": [
    {
     "name": "stdout",
     "output_type": "stream",
     "text": [
      "INFO:tensorflow:Restoring parameters from checkpoints/i1200_l512.ckpt\n"
     ]
    },
    {
     "ename": "NotFoundError",
     "evalue": "Unsuccessful TensorSliceReader constructor: Failed to find any matching files for checkpoints/i1200_l512.ckpt\n\t [[Node: save/RestoreV2_2 = RestoreV2[dtypes=[DT_FLOAT], _device=\"/job:localhost/replica:0/task:0/device:CPU:0\"](_arg_save/Const_0_0, save/RestoreV2_2/tensor_names, save/RestoreV2_2/shape_and_slices)]]\n\nCaused by op 'save/RestoreV2_2', defined at:\n  File \"c:\\users\\mbeie\\appdata\\local\\continuum\\miniconda3\\envs\\intro-to-rnns\\lib\\runpy.py\", line 193, in _run_module_as_main\n    \"__main__\", mod_spec)\n  File \"c:\\users\\mbeie\\appdata\\local\\continuum\\miniconda3\\envs\\intro-to-rnns\\lib\\runpy.py\", line 85, in _run_code\n    exec(code, run_globals)\n  File \"c:\\users\\mbeie\\appdata\\local\\continuum\\miniconda3\\envs\\intro-to-rnns\\lib\\site-packages\\ipykernel\\__main__.py\", line 3, in <module>\n    app.launch_new_instance()\n  File \"c:\\users\\mbeie\\appdata\\local\\continuum\\miniconda3\\envs\\intro-to-rnns\\lib\\site-packages\\traitlets\\config\\application.py\", line 658, in launch_instance\n    app.start()\n  File \"c:\\users\\mbeie\\appdata\\local\\continuum\\miniconda3\\envs\\intro-to-rnns\\lib\\site-packages\\ipykernel\\kernelapp.py\", line 474, in start\n    ioloop.IOLoop.instance().start()\n  File \"c:\\users\\mbeie\\appdata\\local\\continuum\\miniconda3\\envs\\intro-to-rnns\\lib\\site-packages\\zmq\\eventloop\\ioloop.py\", line 177, in start\n    super(ZMQIOLoop, self).start()\n  File \"c:\\users\\mbeie\\appdata\\local\\continuum\\miniconda3\\envs\\intro-to-rnns\\lib\\site-packages\\tornado\\ioloop.py\", line 887, in start\n    handler_func(fd_obj, events)\n  File \"c:\\users\\mbeie\\appdata\\local\\continuum\\miniconda3\\envs\\intro-to-rnns\\lib\\site-packages\\tornado\\stack_context.py\", line 275, in null_wrapper\n    return fn(*args, **kwargs)\n  File \"c:\\users\\mbeie\\appdata\\local\\continuum\\miniconda3\\envs\\intro-to-rnns\\lib\\site-packages\\zmq\\eventloop\\zmqstream.py\", line 440, in _handle_events\n    self._handle_recv()\n  File \"c:\\users\\mbeie\\appdata\\local\\continuum\\miniconda3\\envs\\intro-to-rnns\\lib\\site-packages\\zmq\\eventloop\\zmqstream.py\", line 472, in _handle_recv\n    self._run_callback(callback, msg)\n  File \"c:\\users\\mbeie\\appdata\\local\\continuum\\miniconda3\\envs\\intro-to-rnns\\lib\\site-packages\\zmq\\eventloop\\zmqstream.py\", line 414, in _run_callback\n    callback(*args, **kwargs)\n  File \"c:\\users\\mbeie\\appdata\\local\\continuum\\miniconda3\\envs\\intro-to-rnns\\lib\\site-packages\\tornado\\stack_context.py\", line 275, in null_wrapper\n    return fn(*args, **kwargs)\n  File \"c:\\users\\mbeie\\appdata\\local\\continuum\\miniconda3\\envs\\intro-to-rnns\\lib\\site-packages\\ipykernel\\kernelbase.py\", line 276, in dispatcher\n    return self.dispatch_shell(stream, msg)\n  File \"c:\\users\\mbeie\\appdata\\local\\continuum\\miniconda3\\envs\\intro-to-rnns\\lib\\site-packages\\ipykernel\\kernelbase.py\", line 228, in dispatch_shell\n    handler(stream, idents, msg)\n  File \"c:\\users\\mbeie\\appdata\\local\\continuum\\miniconda3\\envs\\intro-to-rnns\\lib\\site-packages\\ipykernel\\kernelbase.py\", line 390, in execute_request\n    user_expressions, allow_stdin)\n  File \"c:\\users\\mbeie\\appdata\\local\\continuum\\miniconda3\\envs\\intro-to-rnns\\lib\\site-packages\\ipykernel\\ipkernel.py\", line 196, in do_execute\n    res = shell.run_cell(code, store_history=store_history, silent=silent)\n  File \"c:\\users\\mbeie\\appdata\\local\\continuum\\miniconda3\\envs\\intro-to-rnns\\lib\\site-packages\\ipykernel\\zmqshell.py\", line 501, in run_cell\n    return super(ZMQInteractiveShell, self).run_cell(*args, **kwargs)\n  File \"c:\\users\\mbeie\\appdata\\local\\continuum\\miniconda3\\envs\\intro-to-rnns\\lib\\site-packages\\IPython\\core\\interactiveshell.py\", line 2717, in run_cell\n    interactivity=interactivity, compiler=compiler, result=result)\n  File \"c:\\users\\mbeie\\appdata\\local\\continuum\\miniconda3\\envs\\intro-to-rnns\\lib\\site-packages\\IPython\\core\\interactiveshell.py\", line 2821, in run_ast_nodes\n    if self.run_code(code, result):\n  File \"c:\\users\\mbeie\\appdata\\local\\continuum\\miniconda3\\envs\\intro-to-rnns\\lib\\site-packages\\IPython\\core\\interactiveshell.py\", line 2881, in run_code\n    exec(code_obj, self.user_global_ns, self.user_ns)\n  File \"<ipython-input-24-3e7aa01c7a19>\", line 2, in <module>\n    samp = sample(checkpoint, 1000, lstm_size, len(vocab), prime=\"Far\")\n  File \"<ipython-input-19-8eb787ae9642>\", line 4, in sample\n    saver = tf.train.Saver()\n  File \"c:\\users\\mbeie\\appdata\\local\\continuum\\miniconda3\\envs\\intro-to-rnns\\lib\\site-packages\\tensorflow\\python\\training\\saver.py\", line 1218, in __init__\n    self.build()\n  File \"c:\\users\\mbeie\\appdata\\local\\continuum\\miniconda3\\envs\\intro-to-rnns\\lib\\site-packages\\tensorflow\\python\\training\\saver.py\", line 1227, in build\n    self._build(self._filename, build_save=True, build_restore=True)\n  File \"c:\\users\\mbeie\\appdata\\local\\continuum\\miniconda3\\envs\\intro-to-rnns\\lib\\site-packages\\tensorflow\\python\\training\\saver.py\", line 1263, in _build\n    build_save=build_save, build_restore=build_restore)\n  File \"c:\\users\\mbeie\\appdata\\local\\continuum\\miniconda3\\envs\\intro-to-rnns\\lib\\site-packages\\tensorflow\\python\\training\\saver.py\", line 751, in _build_internal\n    restore_sequentially, reshape)\n  File \"c:\\users\\mbeie\\appdata\\local\\continuum\\miniconda3\\envs\\intro-to-rnns\\lib\\site-packages\\tensorflow\\python\\training\\saver.py\", line 427, in _AddRestoreOps\n    tensors = self.restore_op(filename_tensor, saveable, preferred_shard)\n  File \"c:\\users\\mbeie\\appdata\\local\\continuum\\miniconda3\\envs\\intro-to-rnns\\lib\\site-packages\\tensorflow\\python\\training\\saver.py\", line 267, in restore_op\n    [spec.tensor.dtype])[0])\n  File \"c:\\users\\mbeie\\appdata\\local\\continuum\\miniconda3\\envs\\intro-to-rnns\\lib\\site-packages\\tensorflow\\python\\ops\\gen_io_ops.py\", line 1020, in restore_v2\n    shape_and_slices=shape_and_slices, dtypes=dtypes, name=name)\n  File \"c:\\users\\mbeie\\appdata\\local\\continuum\\miniconda3\\envs\\intro-to-rnns\\lib\\site-packages\\tensorflow\\python\\framework\\op_def_library.py\", line 787, in _apply_op_helper\n    op_def=op_def)\n  File \"c:\\users\\mbeie\\appdata\\local\\continuum\\miniconda3\\envs\\intro-to-rnns\\lib\\site-packages\\tensorflow\\python\\framework\\ops.py\", line 2956, in create_op\n    op_def=op_def)\n  File \"c:\\users\\mbeie\\appdata\\local\\continuum\\miniconda3\\envs\\intro-to-rnns\\lib\\site-packages\\tensorflow\\python\\framework\\ops.py\", line 1470, in __init__\n    self._traceback = self._graph._extract_stack()  # pylint: disable=protected-access\n\nNotFoundError (see above for traceback): Unsuccessful TensorSliceReader constructor: Failed to find any matching files for checkpoints/i1200_l512.ckpt\n\t [[Node: save/RestoreV2_2 = RestoreV2[dtypes=[DT_FLOAT], _device=\"/job:localhost/replica:0/task:0/device:CPU:0\"](_arg_save/Const_0_0, save/RestoreV2_2/tensor_names, save/RestoreV2_2/shape_and_slices)]]\n",
     "output_type": "error",
     "traceback": [
      "\u001b[1;31m---------------------------------------------------------------------------\u001b[0m",
      "\u001b[1;31mNotFoundError\u001b[0m                             Traceback (most recent call last)",
      "\u001b[1;32mc:\\users\\mbeie\\appdata\\local\\continuum\\miniconda3\\envs\\intro-to-rnns\\lib\\site-packages\\tensorflow\\python\\client\\session.py\u001b[0m in \u001b[0;36m_do_call\u001b[1;34m(self, fn, *args)\u001b[0m\n\u001b[0;32m   1322\u001b[0m     \u001b[1;32mtry\u001b[0m\u001b[1;33m:\u001b[0m\u001b[1;33m\u001b[0m\u001b[0m\n\u001b[1;32m-> 1323\u001b[1;33m       \u001b[1;32mreturn\u001b[0m \u001b[0mfn\u001b[0m\u001b[1;33m(\u001b[0m\u001b[1;33m*\u001b[0m\u001b[0margs\u001b[0m\u001b[1;33m)\u001b[0m\u001b[1;33m\u001b[0m\u001b[0m\n\u001b[0m\u001b[0;32m   1324\u001b[0m     \u001b[1;32mexcept\u001b[0m \u001b[0merrors\u001b[0m\u001b[1;33m.\u001b[0m\u001b[0mOpError\u001b[0m \u001b[1;32mas\u001b[0m \u001b[0me\u001b[0m\u001b[1;33m:\u001b[0m\u001b[1;33m\u001b[0m\u001b[0m\n",
      "\u001b[1;32mc:\\users\\mbeie\\appdata\\local\\continuum\\miniconda3\\envs\\intro-to-rnns\\lib\\site-packages\\tensorflow\\python\\client\\session.py\u001b[0m in \u001b[0;36m_run_fn\u001b[1;34m(session, feed_dict, fetch_list, target_list, options, run_metadata)\u001b[0m\n\u001b[0;32m   1301\u001b[0m                                    \u001b[0mfeed_dict\u001b[0m\u001b[1;33m,\u001b[0m \u001b[0mfetch_list\u001b[0m\u001b[1;33m,\u001b[0m \u001b[0mtarget_list\u001b[0m\u001b[1;33m,\u001b[0m\u001b[1;33m\u001b[0m\u001b[0m\n\u001b[1;32m-> 1302\u001b[1;33m                                    status, run_metadata)\n\u001b[0m\u001b[0;32m   1303\u001b[0m \u001b[1;33m\u001b[0m\u001b[0m\n",
      "\u001b[1;32mc:\\users\\mbeie\\appdata\\local\\continuum\\miniconda3\\envs\\intro-to-rnns\\lib\\site-packages\\tensorflow\\python\\framework\\errors_impl.py\u001b[0m in \u001b[0;36m__exit__\u001b[1;34m(self, type_arg, value_arg, traceback_arg)\u001b[0m\n\u001b[0;32m    472\u001b[0m             \u001b[0mcompat\u001b[0m\u001b[1;33m.\u001b[0m\u001b[0mas_text\u001b[0m\u001b[1;33m(\u001b[0m\u001b[0mc_api\u001b[0m\u001b[1;33m.\u001b[0m\u001b[0mTF_Message\u001b[0m\u001b[1;33m(\u001b[0m\u001b[0mself\u001b[0m\u001b[1;33m.\u001b[0m\u001b[0mstatus\u001b[0m\u001b[1;33m.\u001b[0m\u001b[0mstatus\u001b[0m\u001b[1;33m)\u001b[0m\u001b[1;33m)\u001b[0m\u001b[1;33m,\u001b[0m\u001b[1;33m\u001b[0m\u001b[0m\n\u001b[1;32m--> 473\u001b[1;33m             c_api.TF_GetCode(self.status.status))\n\u001b[0m\u001b[0;32m    474\u001b[0m     \u001b[1;31m# Delete the underlying status object from memory otherwise it stays alive\u001b[0m\u001b[1;33m\u001b[0m\u001b[1;33m\u001b[0m\u001b[0m\n",
      "\u001b[1;31mNotFoundError\u001b[0m: Unsuccessful TensorSliceReader constructor: Failed to find any matching files for checkpoints/i1200_l512.ckpt\n\t [[Node: save/RestoreV2_2 = RestoreV2[dtypes=[DT_FLOAT], _device=\"/job:localhost/replica:0/task:0/device:CPU:0\"](_arg_save/Const_0_0, save/RestoreV2_2/tensor_names, save/RestoreV2_2/shape_and_slices)]]",
      "\nDuring handling of the above exception, another exception occurred:\n",
      "\u001b[1;31mNotFoundError\u001b[0m                             Traceback (most recent call last)",
      "\u001b[1;32m<ipython-input-24-3e7aa01c7a19>\u001b[0m in \u001b[0;36m<module>\u001b[1;34m()\u001b[0m\n\u001b[0;32m      1\u001b[0m \u001b[0mcheckpoint\u001b[0m \u001b[1;33m=\u001b[0m \u001b[1;34m'checkpoints/i1200_l512.ckpt'\u001b[0m\u001b[1;33m\u001b[0m\u001b[0m\n\u001b[1;32m----> 2\u001b[1;33m \u001b[0msamp\u001b[0m \u001b[1;33m=\u001b[0m \u001b[0msample\u001b[0m\u001b[1;33m(\u001b[0m\u001b[0mcheckpoint\u001b[0m\u001b[1;33m,\u001b[0m \u001b[1;36m1000\u001b[0m\u001b[1;33m,\u001b[0m \u001b[0mlstm_size\u001b[0m\u001b[1;33m,\u001b[0m \u001b[0mlen\u001b[0m\u001b[1;33m(\u001b[0m\u001b[0mvocab\u001b[0m\u001b[1;33m)\u001b[0m\u001b[1;33m,\u001b[0m \u001b[0mprime\u001b[0m\u001b[1;33m=\u001b[0m\u001b[1;34m\"Far\"\u001b[0m\u001b[1;33m)\u001b[0m\u001b[1;33m\u001b[0m\u001b[0m\n\u001b[0m\u001b[0;32m      3\u001b[0m \u001b[0mprint\u001b[0m\u001b[1;33m(\u001b[0m\u001b[0msamp\u001b[0m\u001b[1;33m)\u001b[0m\u001b[1;33m\u001b[0m\u001b[0m\n",
      "\u001b[1;32m<ipython-input-19-8eb787ae9642>\u001b[0m in \u001b[0;36msample\u001b[1;34m(checkpoint, n_samples, lstm_size, vocab_size, prime)\u001b[0m\n\u001b[0;32m      4\u001b[0m     \u001b[0msaver\u001b[0m \u001b[1;33m=\u001b[0m \u001b[0mtf\u001b[0m\u001b[1;33m.\u001b[0m\u001b[0mtrain\u001b[0m\u001b[1;33m.\u001b[0m\u001b[0mSaver\u001b[0m\u001b[1;33m(\u001b[0m\u001b[1;33m)\u001b[0m\u001b[1;33m\u001b[0m\u001b[0m\n\u001b[0;32m      5\u001b[0m     \u001b[1;32mwith\u001b[0m \u001b[0mtf\u001b[0m\u001b[1;33m.\u001b[0m\u001b[0mSession\u001b[0m\u001b[1;33m(\u001b[0m\u001b[1;33m)\u001b[0m \u001b[1;32mas\u001b[0m \u001b[0msess\u001b[0m\u001b[1;33m:\u001b[0m\u001b[1;33m\u001b[0m\u001b[0m\n\u001b[1;32m----> 6\u001b[1;33m         \u001b[0msaver\u001b[0m\u001b[1;33m.\u001b[0m\u001b[0mrestore\u001b[0m\u001b[1;33m(\u001b[0m\u001b[0msess\u001b[0m\u001b[1;33m,\u001b[0m \u001b[0mcheckpoint\u001b[0m\u001b[1;33m)\u001b[0m\u001b[1;33m\u001b[0m\u001b[0m\n\u001b[0m\u001b[0;32m      7\u001b[0m         \u001b[0mnew_state\u001b[0m \u001b[1;33m=\u001b[0m \u001b[0msess\u001b[0m\u001b[1;33m.\u001b[0m\u001b[0mrun\u001b[0m\u001b[1;33m(\u001b[0m\u001b[0mmodel\u001b[0m\u001b[1;33m.\u001b[0m\u001b[0minitial_state\u001b[0m\u001b[1;33m)\u001b[0m\u001b[1;33m\u001b[0m\u001b[0m\n\u001b[0;32m      8\u001b[0m         \u001b[1;32mfor\u001b[0m \u001b[0mc\u001b[0m \u001b[1;32min\u001b[0m \u001b[0mprime\u001b[0m\u001b[1;33m:\u001b[0m\u001b[1;33m\u001b[0m\u001b[0m\n",
      "\u001b[1;32mc:\\users\\mbeie\\appdata\\local\\continuum\\miniconda3\\envs\\intro-to-rnns\\lib\\site-packages\\tensorflow\\python\\training\\saver.py\u001b[0m in \u001b[0;36mrestore\u001b[1;34m(self, sess, save_path)\u001b[0m\n\u001b[0;32m   1664\u001b[0m     \u001b[1;32mif\u001b[0m \u001b[0mcontext\u001b[0m\u001b[1;33m.\u001b[0m\u001b[0min_graph_mode\u001b[0m\u001b[1;33m(\u001b[0m\u001b[1;33m)\u001b[0m\u001b[1;33m:\u001b[0m\u001b[1;33m\u001b[0m\u001b[0m\n\u001b[0;32m   1665\u001b[0m       sess.run(self.saver_def.restore_op_name,\n\u001b[1;32m-> 1666\u001b[1;33m                {self.saver_def.filename_tensor_name: save_path})\n\u001b[0m\u001b[0;32m   1667\u001b[0m     \u001b[1;32melse\u001b[0m\u001b[1;33m:\u001b[0m\u001b[1;33m\u001b[0m\u001b[0m\n\u001b[0;32m   1668\u001b[0m       \u001b[0mself\u001b[0m\u001b[1;33m.\u001b[0m\u001b[0m_build_eager\u001b[0m\u001b[1;33m(\u001b[0m\u001b[0msave_path\u001b[0m\u001b[1;33m,\u001b[0m \u001b[0mbuild_save\u001b[0m\u001b[1;33m=\u001b[0m\u001b[1;32mFalse\u001b[0m\u001b[1;33m,\u001b[0m \u001b[0mbuild_restore\u001b[0m\u001b[1;33m=\u001b[0m\u001b[1;32mTrue\u001b[0m\u001b[1;33m)\u001b[0m\u001b[1;33m\u001b[0m\u001b[0m\n",
      "\u001b[1;32mc:\\users\\mbeie\\appdata\\local\\continuum\\miniconda3\\envs\\intro-to-rnns\\lib\\site-packages\\tensorflow\\python\\client\\session.py\u001b[0m in \u001b[0;36mrun\u001b[1;34m(self, fetches, feed_dict, options, run_metadata)\u001b[0m\n\u001b[0;32m    887\u001b[0m     \u001b[1;32mtry\u001b[0m\u001b[1;33m:\u001b[0m\u001b[1;33m\u001b[0m\u001b[0m\n\u001b[0;32m    888\u001b[0m       result = self._run(None, fetches, feed_dict, options_ptr,\n\u001b[1;32m--> 889\u001b[1;33m                          run_metadata_ptr)\n\u001b[0m\u001b[0;32m    890\u001b[0m       \u001b[1;32mif\u001b[0m \u001b[0mrun_metadata\u001b[0m\u001b[1;33m:\u001b[0m\u001b[1;33m\u001b[0m\u001b[0m\n\u001b[0;32m    891\u001b[0m         \u001b[0mproto_data\u001b[0m \u001b[1;33m=\u001b[0m \u001b[0mtf_session\u001b[0m\u001b[1;33m.\u001b[0m\u001b[0mTF_GetBuffer\u001b[0m\u001b[1;33m(\u001b[0m\u001b[0mrun_metadata_ptr\u001b[0m\u001b[1;33m)\u001b[0m\u001b[1;33m\u001b[0m\u001b[0m\n",
      "\u001b[1;32mc:\\users\\mbeie\\appdata\\local\\continuum\\miniconda3\\envs\\intro-to-rnns\\lib\\site-packages\\tensorflow\\python\\client\\session.py\u001b[0m in \u001b[0;36m_run\u001b[1;34m(self, handle, fetches, feed_dict, options, run_metadata)\u001b[0m\n\u001b[0;32m   1118\u001b[0m     \u001b[1;32mif\u001b[0m \u001b[0mfinal_fetches\u001b[0m \u001b[1;32mor\u001b[0m \u001b[0mfinal_targets\u001b[0m \u001b[1;32mor\u001b[0m \u001b[1;33m(\u001b[0m\u001b[0mhandle\u001b[0m \u001b[1;32mand\u001b[0m \u001b[0mfeed_dict_tensor\u001b[0m\u001b[1;33m)\u001b[0m\u001b[1;33m:\u001b[0m\u001b[1;33m\u001b[0m\u001b[0m\n\u001b[0;32m   1119\u001b[0m       results = self._do_run(handle, final_targets, final_fetches,\n\u001b[1;32m-> 1120\u001b[1;33m                              feed_dict_tensor, options, run_metadata)\n\u001b[0m\u001b[0;32m   1121\u001b[0m     \u001b[1;32melse\u001b[0m\u001b[1;33m:\u001b[0m\u001b[1;33m\u001b[0m\u001b[0m\n\u001b[0;32m   1122\u001b[0m       \u001b[0mresults\u001b[0m \u001b[1;33m=\u001b[0m \u001b[1;33m[\u001b[0m\u001b[1;33m]\u001b[0m\u001b[1;33m\u001b[0m\u001b[0m\n",
      "\u001b[1;32mc:\\users\\mbeie\\appdata\\local\\continuum\\miniconda3\\envs\\intro-to-rnns\\lib\\site-packages\\tensorflow\\python\\client\\session.py\u001b[0m in \u001b[0;36m_do_run\u001b[1;34m(self, handle, target_list, fetch_list, feed_dict, options, run_metadata)\u001b[0m\n\u001b[0;32m   1315\u001b[0m     \u001b[1;32mif\u001b[0m \u001b[0mhandle\u001b[0m \u001b[1;32mis\u001b[0m \u001b[1;32mNone\u001b[0m\u001b[1;33m:\u001b[0m\u001b[1;33m\u001b[0m\u001b[0m\n\u001b[0;32m   1316\u001b[0m       return self._do_call(_run_fn, self._session, feeds, fetches, targets,\n\u001b[1;32m-> 1317\u001b[1;33m                            options, run_metadata)\n\u001b[0m\u001b[0;32m   1318\u001b[0m     \u001b[1;32melse\u001b[0m\u001b[1;33m:\u001b[0m\u001b[1;33m\u001b[0m\u001b[0m\n\u001b[0;32m   1319\u001b[0m       \u001b[1;32mreturn\u001b[0m \u001b[0mself\u001b[0m\u001b[1;33m.\u001b[0m\u001b[0m_do_call\u001b[0m\u001b[1;33m(\u001b[0m\u001b[0m_prun_fn\u001b[0m\u001b[1;33m,\u001b[0m \u001b[0mself\u001b[0m\u001b[1;33m.\u001b[0m\u001b[0m_session\u001b[0m\u001b[1;33m,\u001b[0m \u001b[0mhandle\u001b[0m\u001b[1;33m,\u001b[0m \u001b[0mfeeds\u001b[0m\u001b[1;33m,\u001b[0m \u001b[0mfetches\u001b[0m\u001b[1;33m)\u001b[0m\u001b[1;33m\u001b[0m\u001b[0m\n",
      "\u001b[1;32mc:\\users\\mbeie\\appdata\\local\\continuum\\miniconda3\\envs\\intro-to-rnns\\lib\\site-packages\\tensorflow\\python\\client\\session.py\u001b[0m in \u001b[0;36m_do_call\u001b[1;34m(self, fn, *args)\u001b[0m\n\u001b[0;32m   1334\u001b[0m         \u001b[1;32mexcept\u001b[0m \u001b[0mKeyError\u001b[0m\u001b[1;33m:\u001b[0m\u001b[1;33m\u001b[0m\u001b[0m\n\u001b[0;32m   1335\u001b[0m           \u001b[1;32mpass\u001b[0m\u001b[1;33m\u001b[0m\u001b[0m\n\u001b[1;32m-> 1336\u001b[1;33m       \u001b[1;32mraise\u001b[0m \u001b[0mtype\u001b[0m\u001b[1;33m(\u001b[0m\u001b[0me\u001b[0m\u001b[1;33m)\u001b[0m\u001b[1;33m(\u001b[0m\u001b[0mnode_def\u001b[0m\u001b[1;33m,\u001b[0m \u001b[0mop\u001b[0m\u001b[1;33m,\u001b[0m \u001b[0mmessage\u001b[0m\u001b[1;33m)\u001b[0m\u001b[1;33m\u001b[0m\u001b[0m\n\u001b[0m\u001b[0;32m   1337\u001b[0m \u001b[1;33m\u001b[0m\u001b[0m\n\u001b[0;32m   1338\u001b[0m   \u001b[1;32mdef\u001b[0m \u001b[0m_extend_graph\u001b[0m\u001b[1;33m(\u001b[0m\u001b[0mself\u001b[0m\u001b[1;33m)\u001b[0m\u001b[1;33m:\u001b[0m\u001b[1;33m\u001b[0m\u001b[0m\n",
      "\u001b[1;31mNotFoundError\u001b[0m: Unsuccessful TensorSliceReader constructor: Failed to find any matching files for checkpoints/i1200_l512.ckpt\n\t [[Node: save/RestoreV2_2 = RestoreV2[dtypes=[DT_FLOAT], _device=\"/job:localhost/replica:0/task:0/device:CPU:0\"](_arg_save/Const_0_0, save/RestoreV2_2/tensor_names, save/RestoreV2_2/shape_and_slices)]]\n\nCaused by op 'save/RestoreV2_2', defined at:\n  File \"c:\\users\\mbeie\\appdata\\local\\continuum\\miniconda3\\envs\\intro-to-rnns\\lib\\runpy.py\", line 193, in _run_module_as_main\n    \"__main__\", mod_spec)\n  File \"c:\\users\\mbeie\\appdata\\local\\continuum\\miniconda3\\envs\\intro-to-rnns\\lib\\runpy.py\", line 85, in _run_code\n    exec(code, run_globals)\n  File \"c:\\users\\mbeie\\appdata\\local\\continuum\\miniconda3\\envs\\intro-to-rnns\\lib\\site-packages\\ipykernel\\__main__.py\", line 3, in <module>\n    app.launch_new_instance()\n  File \"c:\\users\\mbeie\\appdata\\local\\continuum\\miniconda3\\envs\\intro-to-rnns\\lib\\site-packages\\traitlets\\config\\application.py\", line 658, in launch_instance\n    app.start()\n  File \"c:\\users\\mbeie\\appdata\\local\\continuum\\miniconda3\\envs\\intro-to-rnns\\lib\\site-packages\\ipykernel\\kernelapp.py\", line 474, in start\n    ioloop.IOLoop.instance().start()\n  File \"c:\\users\\mbeie\\appdata\\local\\continuum\\miniconda3\\envs\\intro-to-rnns\\lib\\site-packages\\zmq\\eventloop\\ioloop.py\", line 177, in start\n    super(ZMQIOLoop, self).start()\n  File \"c:\\users\\mbeie\\appdata\\local\\continuum\\miniconda3\\envs\\intro-to-rnns\\lib\\site-packages\\tornado\\ioloop.py\", line 887, in start\n    handler_func(fd_obj, events)\n  File \"c:\\users\\mbeie\\appdata\\local\\continuum\\miniconda3\\envs\\intro-to-rnns\\lib\\site-packages\\tornado\\stack_context.py\", line 275, in null_wrapper\n    return fn(*args, **kwargs)\n  File \"c:\\users\\mbeie\\appdata\\local\\continuum\\miniconda3\\envs\\intro-to-rnns\\lib\\site-packages\\zmq\\eventloop\\zmqstream.py\", line 440, in _handle_events\n    self._handle_recv()\n  File \"c:\\users\\mbeie\\appdata\\local\\continuum\\miniconda3\\envs\\intro-to-rnns\\lib\\site-packages\\zmq\\eventloop\\zmqstream.py\", line 472, in _handle_recv\n    self._run_callback(callback, msg)\n  File \"c:\\users\\mbeie\\appdata\\local\\continuum\\miniconda3\\envs\\intro-to-rnns\\lib\\site-packages\\zmq\\eventloop\\zmqstream.py\", line 414, in _run_callback\n    callback(*args, **kwargs)\n  File \"c:\\users\\mbeie\\appdata\\local\\continuum\\miniconda3\\envs\\intro-to-rnns\\lib\\site-packages\\tornado\\stack_context.py\", line 275, in null_wrapper\n    return fn(*args, **kwargs)\n  File \"c:\\users\\mbeie\\appdata\\local\\continuum\\miniconda3\\envs\\intro-to-rnns\\lib\\site-packages\\ipykernel\\kernelbase.py\", line 276, in dispatcher\n    return self.dispatch_shell(stream, msg)\n  File \"c:\\users\\mbeie\\appdata\\local\\continuum\\miniconda3\\envs\\intro-to-rnns\\lib\\site-packages\\ipykernel\\kernelbase.py\", line 228, in dispatch_shell\n    handler(stream, idents, msg)\n  File \"c:\\users\\mbeie\\appdata\\local\\continuum\\miniconda3\\envs\\intro-to-rnns\\lib\\site-packages\\ipykernel\\kernelbase.py\", line 390, in execute_request\n    user_expressions, allow_stdin)\n  File \"c:\\users\\mbeie\\appdata\\local\\continuum\\miniconda3\\envs\\intro-to-rnns\\lib\\site-packages\\ipykernel\\ipkernel.py\", line 196, in do_execute\n    res = shell.run_cell(code, store_history=store_history, silent=silent)\n  File \"c:\\users\\mbeie\\appdata\\local\\continuum\\miniconda3\\envs\\intro-to-rnns\\lib\\site-packages\\ipykernel\\zmqshell.py\", line 501, in run_cell\n    return super(ZMQInteractiveShell, self).run_cell(*args, **kwargs)\n  File \"c:\\users\\mbeie\\appdata\\local\\continuum\\miniconda3\\envs\\intro-to-rnns\\lib\\site-packages\\IPython\\core\\interactiveshell.py\", line 2717, in run_cell\n    interactivity=interactivity, compiler=compiler, result=result)\n  File \"c:\\users\\mbeie\\appdata\\local\\continuum\\miniconda3\\envs\\intro-to-rnns\\lib\\site-packages\\IPython\\core\\interactiveshell.py\", line 2821, in run_ast_nodes\n    if self.run_code(code, result):\n  File \"c:\\users\\mbeie\\appdata\\local\\continuum\\miniconda3\\envs\\intro-to-rnns\\lib\\site-packages\\IPython\\core\\interactiveshell.py\", line 2881, in run_code\n    exec(code_obj, self.user_global_ns, self.user_ns)\n  File \"<ipython-input-24-3e7aa01c7a19>\", line 2, in <module>\n    samp = sample(checkpoint, 1000, lstm_size, len(vocab), prime=\"Far\")\n  File \"<ipython-input-19-8eb787ae9642>\", line 4, in sample\n    saver = tf.train.Saver()\n  File \"c:\\users\\mbeie\\appdata\\local\\continuum\\miniconda3\\envs\\intro-to-rnns\\lib\\site-packages\\tensorflow\\python\\training\\saver.py\", line 1218, in __init__\n    self.build()\n  File \"c:\\users\\mbeie\\appdata\\local\\continuum\\miniconda3\\envs\\intro-to-rnns\\lib\\site-packages\\tensorflow\\python\\training\\saver.py\", line 1227, in build\n    self._build(self._filename, build_save=True, build_restore=True)\n  File \"c:\\users\\mbeie\\appdata\\local\\continuum\\miniconda3\\envs\\intro-to-rnns\\lib\\site-packages\\tensorflow\\python\\training\\saver.py\", line 1263, in _build\n    build_save=build_save, build_restore=build_restore)\n  File \"c:\\users\\mbeie\\appdata\\local\\continuum\\miniconda3\\envs\\intro-to-rnns\\lib\\site-packages\\tensorflow\\python\\training\\saver.py\", line 751, in _build_internal\n    restore_sequentially, reshape)\n  File \"c:\\users\\mbeie\\appdata\\local\\continuum\\miniconda3\\envs\\intro-to-rnns\\lib\\site-packages\\tensorflow\\python\\training\\saver.py\", line 427, in _AddRestoreOps\n    tensors = self.restore_op(filename_tensor, saveable, preferred_shard)\n  File \"c:\\users\\mbeie\\appdata\\local\\continuum\\miniconda3\\envs\\intro-to-rnns\\lib\\site-packages\\tensorflow\\python\\training\\saver.py\", line 267, in restore_op\n    [spec.tensor.dtype])[0])\n  File \"c:\\users\\mbeie\\appdata\\local\\continuum\\miniconda3\\envs\\intro-to-rnns\\lib\\site-packages\\tensorflow\\python\\ops\\gen_io_ops.py\", line 1020, in restore_v2\n    shape_and_slices=shape_and_slices, dtypes=dtypes, name=name)\n  File \"c:\\users\\mbeie\\appdata\\local\\continuum\\miniconda3\\envs\\intro-to-rnns\\lib\\site-packages\\tensorflow\\python\\framework\\op_def_library.py\", line 787, in _apply_op_helper\n    op_def=op_def)\n  File \"c:\\users\\mbeie\\appdata\\local\\continuum\\miniconda3\\envs\\intro-to-rnns\\lib\\site-packages\\tensorflow\\python\\framework\\ops.py\", line 2956, in create_op\n    op_def=op_def)\n  File \"c:\\users\\mbeie\\appdata\\local\\continuum\\miniconda3\\envs\\intro-to-rnns\\lib\\site-packages\\tensorflow\\python\\framework\\ops.py\", line 1470, in __init__\n    self._traceback = self._graph._extract_stack()  # pylint: disable=protected-access\n\nNotFoundError (see above for traceback): Unsuccessful TensorSliceReader constructor: Failed to find any matching files for checkpoints/i1200_l512.ckpt\n\t [[Node: save/RestoreV2_2 = RestoreV2[dtypes=[DT_FLOAT], _device=\"/job:localhost/replica:0/task:0/device:CPU:0\"](_arg_save/Const_0_0, save/RestoreV2_2/tensor_names, save/RestoreV2_2/shape_and_slices)]]\n"
     ]
    }
   ],
=======
   "execution_count": null,
   "metadata": {},
   "outputs": [],
>>>>>>> upstream/master
   "source": [
    "checkpoint = 'checkpoints/i1200_l512.ckpt'\n",
    "samp = sample(checkpoint, 1000, lstm_size, len(vocab), prime=\"Far\")\n",
    "print(samp)"
   ]
  },
  {
   "cell_type": "code",
   "execution_count": null,
   "metadata": {
    "collapsed": true
   },
   "outputs": [],
   "source": []
  }
 ],
 "metadata": {
  "kernelspec": {
   "display_name": "Python 3",
   "language": "python",
   "name": "python3"
  },
  "language_info": {
   "codemirror_mode": {
    "name": "ipython",
    "version": 3
   },
   "file_extension": ".py",
   "mimetype": "text/x-python",
   "name": "python",
   "nbconvert_exporter": "python",
   "pygments_lexer": "ipython3",
<<<<<<< HEAD
   "version": "3.6.3"
=======
   "version": "3.6.4"
>>>>>>> upstream/master
  }
 },
 "nbformat": 4,
 "nbformat_minor": 2
}
